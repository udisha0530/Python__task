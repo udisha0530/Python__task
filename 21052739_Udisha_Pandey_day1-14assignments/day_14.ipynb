{
 "cells": [
  {
   "cell_type": "code",
   "execution_count": 3,
   "id": "ed71a149",
   "metadata": {},
   "outputs": [
    {
     "name": "stdout",
     "output_type": "stream",
     "text": [
      "enter a number1\n",
      "1\n"
     ]
    }
   ],
   "source": [
    "num=int(input(\"enter a number\"))\n",
    "sum=0\n",
    "while num>0:\n",
    "    temp=num%10\n",
    "    sum=sum+temp\n",
    "    num//=10\n",
    "print(sum)\n",
    "    \n",
    "    \n",
    "    "
   ]
  },
  {
   "cell_type": "code",
   "execution_count": 6,
   "id": "138c7faa",
   "metadata": {},
   "outputs": [
    {
     "name": "stdout",
     "output_type": "stream",
     "text": [
      "Enter num1:5\n",
      "Enter num2:10\n",
      "hcf:5\n",
      "lcm:10\n"
     ]
    }
   ],
   "source": [
    "def get_gcd(a,b):\n",
    "    if(a==0):\n",
    "        return b\n",
    "    if(b==0):\n",
    "        return a\n",
    "    while a!=b:\n",
    "        if a<b:\n",
    "            b=b-a\n",
    "        else:\n",
    "            a=a-b\n",
    "    return a        \n",
    "a=int(input(\"Enter num1:\"))\n",
    "b=int(input(\"Enter num2:\"))\n",
    "gcd=get_gcd(a,b)\n",
    "lcm=(a*b)//gcd\n",
    "print(f\"hcf:{gcd}\")\n",
    "print(f\"lcm:{lcm}\")\n"
   ]
  },
  {
   "cell_type": "code",
   "execution_count": null,
   "id": "466b138d",
   "metadata": {},
   "outputs": [],
   "source": [
    "def validate_roll_number(roll_number):\n",
    "    return 1000 <= roll_number <= 9999\n",
    "\n",
    "def calculate_total_marks(marks):\n",
    "    total = 0\n",
    "    for subject_marks in marks:\n",
    "        total += subject_marks\n",
    "    return total\n",
    "\n",
    "# Initialize variables\n",
    "students_with_high_total = 0\n",
    "highest_total = 0\n",
    "highest_total_roll_numbers = []\n",
    "valid_roll_numbers = []\n",
    "roll_number_marks = []\n",
    "\n",
    "# Read roll number and marks for 10 students\n",
    "for i in range(10):\n",
    "    valid_roll_number = False\n",
    "    while not valid_roll_number:\n",
    "        roll_number = int(input(\"Enter roll number (1000-9999) for student {}: \".format(i+1)))\n",
    "        if validate_roll_number(roll_number):\n",
    "            valid_roll_number = True\n",
    "            valid_roll_numbers.append(roll_number)\n",
    "        else:\n",
    "            print(\"Invalid roll number. Please enter again.\")\n",
    "\n",
    "    marks = []\n",
    "    for j in range(3):\n",
    "        marks.append(int(input(\"Enter marks for subject {} of student {}: \".format(j+1, i+1))))\n",
    "    \n",
    "    roll_number_marks.append((roll_number, marks))\n",
    "\n",
    "# Calculate total marks and perform required calculations\n",
    "for roll_number, marks in roll_number_marks:\n",
    "    total_marks = calculate_total_marks(marks)\n",
    "    \n",
    "    if all(mark >= 40 for mark in marks):\n",
    "        if total_marks > 200:\n",
    "            students_with_high_total += 1\n",
    "        \n",
    "        if total_marks > highest_total:\n",
    "            highest_total = total_marks\n",
    "            highest_total_roll_numbers = [roll_number]\n",
    "        elif total_marks == highest_total:\n",
    "            highest_total_roll_numbers.append(roll_number)\n",
    "\n",
    "# Print results\n",
    "print(\"Total number of students with total marks more than 200:\", students_with_high_total)\n",
    "print(\"Roll numbers of students with the highest total marks:\", highest_total_roll_numbers)\n"
   ]
  },
  {
   "cell_type": "code",
   "execution_count": 10,
   "id": "d4c7e276",
   "metadata": {},
   "outputs": [
    {
     "name": "stdout",
     "output_type": "stream",
     "text": [
      "enter a number0\n",
      "1\n"
     ]
    }
   ],
   "source": [
    "num=int(input(\"enter a number\"))\n",
    "if num==0:\n",
    "    ct=1\n",
    "else:\n",
    "    ct=0\n",
    "    while num>0:\n",
    "        ct=ct+1\n",
    "        num//=10\n",
    "print(ct)    "
   ]
  },
  {
   "cell_type": "code",
   "execution_count": 16,
   "id": "352a07c2",
   "metadata": {},
   "outputs": [
    {
     "name": "stdout",
     "output_type": "stream",
     "text": [
      "enter a number1234\n",
      "Reverse of number:4321\n",
      "Double value: 8642\n"
     ]
    }
   ],
   "source": [
    "num=int(input(\"enter a number\"))\n",
    "rev = 0\n",
    "while num > 0:\n",
    "        digit = num % 10\n",
    "        rev = rev * 10 + digit\n",
    "        num //= 10\n",
    "print(f\"Reverse of number:{rev}\")\n",
    "print(f\"Double value: {2*rev}\")"
   ]
  },
  {
   "cell_type": "code",
   "execution_count": null,
   "id": "2407e42a",
   "metadata": {},
   "outputs": [],
   "source": []
  }
 ],
 "metadata": {
  "kernelspec": {
   "display_name": "Python 3 (ipykernel)",
   "language": "python",
   "name": "python3"
  },
  "language_info": {
   "codemirror_mode": {
    "name": "ipython",
    "version": 3
   },
   "file_extension": ".py",
   "mimetype": "text/x-python",
   "name": "python",
   "nbconvert_exporter": "python",
   "pygments_lexer": "ipython3",
   "version": "3.10.9"
  }
 },
 "nbformat": 4,
 "nbformat_minor": 5
}
