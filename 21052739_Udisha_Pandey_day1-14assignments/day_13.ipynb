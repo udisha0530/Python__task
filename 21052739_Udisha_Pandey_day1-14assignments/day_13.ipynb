{
 "cells": [
  {
   "cell_type": "markdown",
   "id": "3464962c",
   "metadata": {},
   "source": [
    "#                               Python Tasks – Day13 \n",
    "\n",
    " \n",
    "\n",
    "Write a Python Code to count the Number of Each Vowel in a given string \n",
    "\n",
    "Write a Python Code to count number of words, characters and number of spaces in a given stirng \n",
    "\n",
    "Write a Python Program to remove punctuation from a given string (using loop) \n",
    "\n",
    "Write a Python Program to take a mxn matrix input from user and stored in nested list \n",
    "\n",
    "Write a Python Program to add, multiply and transpose two matrices given by user  "
   ]
  },
  {
   "cell_type": "code",
   "execution_count": 9,
   "id": "72f92d54",
   "metadata": {},
   "outputs": [
    {
     "name": "stdout",
     "output_type": "stream",
     "text": [
      "{'e': 1, 'o': 2}\n"
     ]
    }
   ],
   "source": [
    "def count_vowels(string):\n",
    "    vowels = 'aeiou'\n",
    "    vowel_count = {}\n",
    "\n",
    "    for vowel in vowels:\n",
    "        count = 0\n",
    "        for char in string.lower():\n",
    "            if char == vowel:\n",
    "                count += 1\n",
    "        if count > 0:\n",
    "            vowel_count[vowel] = count\n",
    "\n",
    "    return vowel_count\n",
    "\n",
    "my_string = \"Hello, World!\"\n",
    "result = count_vowels(my_string)\n",
    "print(result)\n",
    "\n"
   ]
  },
  {
   "cell_type": "code",
   "execution_count": 8,
   "id": "5b987ee8",
   "metadata": {},
   "outputs": [
    {
     "name": "stdout",
     "output_type": "stream",
     "text": [
      "{'e': 2, 'o': 2}\n"
     ]
    }
   ],
   "source": [
    "string=\"hello  world.\"\n",
    "string_data={}\n",
    "for s in string:\n",
    "    if s.is\n",
    "    "
   ]
  },
  {
   "cell_type": "code",
   "execution_count": null,
   "id": "bf0c32f3",
   "metadata": {},
   "outputs": [],
   "source": [
    "def count_string(string):\n",
    "    word_count = 0\n",
    "    char_count = 0\n",
    "    space_count = 0\n",
    "\n",
    "    for char in string:\n",
    "        char_count += 1\n",
    "\n",
    "        if char == ' ':\n",
    "            space_count += 1\n",
    "\n",
    "    in_word = False\n",
    "    for char in string:\n",
    "        if char != ' ' and not in_word:\n",
    "            word_count += 1\n",
    "            in_word = True\n",
    "        elif char == ' ':\n",
    "            in_word = False\n",
    "\n",
    "    return word_count, char_count, space_count\n",
    "\n",
    "my_string = \"Hello, World! Welcome to Python.\"\n",
    "word_count, char_count, space_count = count_string(my_string)\n",
    "print(\"Number of words:\", word_count)\n",
    "print(\"Number of characters:\", char_count)\n",
    "print(\"Number of spaces:\", space_count)\n"
   ]
  },
  {
   "cell_type": "code",
   "execution_count": null,
   "id": "ecfcbc12",
   "metadata": {},
   "outputs": [],
   "source": [
    "def remove_punctuation(string):\n",
    "    punctuations = '''!()-[]{};:'\"\\,<>./?@#$%^&*_~'''\n",
    "    result = ''\n",
    "\n",
    "    for char in string:\n",
    "        if char not in punctuations:\n",
    "            result += char\n",
    "\n",
    "    return result\n",
    "\n",
    "my_string = \"Hello, World!\"\n",
    "result = remove_punctuation(my_string)\n",
    "print(result)\n"
   ]
  },
  {
   "cell_type": "code",
   "execution_count": 14,
   "id": "6dc36b9a",
   "metadata": {},
   "outputs": [
    {
     "name": "stdout",
     "output_type": "stream",
     "text": [
      "enter number of rows:3\n",
      "enter number of cols:3\n",
      "index[0][0]:1\n",
      "index[0][1]:2\n",
      "index[0][2]:3\n",
      "index[1][0]:4\n",
      "index[1][1]:5\n",
      "index[1][2]:6\n",
      "index[2][0]:7\n",
      "index[2][1]:8\n",
      "index[2][2]:9\n",
      "[[1, 2, 3], [4, 5, 6], [7, 8, 9]]\n"
     ]
    }
   ],
   "source": [
    "m=int(input(\"enter number of rows:\"))\n",
    "n=int(input(\"enter number of cols:\"))\n",
    "matrix=[]\n",
    "for i in range(0,m):\n",
    "    row=[]\n",
    "    for j in range(0,n):\n",
    "        num=int(input(f\"index[{i}][{j}]:\"))\n",
    "        row.append(num)\n",
    "    matrix.append(row) \n",
    "    \n",
    "print(matrix)    \n",
    "        "
   ]
  },
  {
   "cell_type": "code",
   "execution_count": null,
   "id": "5fff09ee",
   "metadata": {},
   "outputs": [],
   "source": [
    "def get_matrix(m,n):\n",
    "    \n",
    "    matrix=[]\n",
    "    for i in range(0,m):\n",
    "        row=[]\n",
    "            for j in range(0,n):\n",
    "            num=int(input(f\"index[{i}][{j}]:\"))\n",
    "            row.append(num)\n",
    "        matrix.append(row) \n",
    "        \n",
    "    return matrix\n",
    "def add_matrices(m1, m2):\n",
    "    rows = len(m1)\n",
    "    cols = len(m1[0])\n",
    "    result = []\n",
    "\n",
    "    for i in range(rows):\n",
    "        row = []\n",
    "        for j in range(cols):\n",
    "            sum_val = m1[i][j] + m2[i][j]\n",
    "            row.append(sum_val)\n",
    "        result.append(row)\n",
    "\n",
    "    return result\n",
    "def multiply_matrices(m1, m2):\n",
    "    rows1 = len(m1)\n",
    "    cols1 = len(m1[0])\n",
    "    cols2 = len(m2[0])\n",
    "    result = []\n",
    "\n",
    "    for i in range(rows1):\n",
    "        row = []\n",
    "        for j in range(cols2):\n",
    "            product = 0\n",
    "            for k in range(cols1):\n",
    "                product += m1[i][k] * m2[k][j]\n",
    "            row.append(product)\n",
    "        result.append(row)\n",
    "\n",
    "    return result   \n",
    "def transpose_matrix(m1):\n",
    "    rows = len(m1)\n",
    "    cols = len(m1[0])\n",
    "    result = []\n",
    "\n",
    "    for j in range(cols):\n",
    "        row = []\n",
    "        for i in range(rows):\n",
    "            row.append(m1[i][j])\n",
    "        result.append(row)\n",
    "\n",
    "    return result\n",
    "\n",
    "rows1 = int(input(\"Enter the number of rows for matrix1: \"))\n",
    "cols1 = int(input(\"Enter the number of columns for matrix1: \"))\n",
    "print(\"Enter elements for matrix1:\")\n",
    "m1 = get_matrix(rows1, cols1)\n",
    "\n",
    "rows2 = int(input(\"Enter the number of rows for matrix2: \"))\n",
    "cols2 = int(input(\"Enter the number of columns for matrix2: \"))\n",
    "print(\"Enter elements for matrix2:\")\n",
    "m2 = get_matrix(rows2, cols2)\n",
    "\n",
    "if rows1 == rows2 and cols1 == cols2:\n",
    "    addition_result = add_matrices(m1, m2)\n",
    "    print(\"Addition of the matrices:\")\n",
    "    for row in addition_result:\n",
    "        print(row)\n",
    "else:\n",
    "    print(\"Matrices cannot be added. Dimensions don't match.\")\n",
    "\n",
    "if cols1 == rows2:\n",
    "    multiplication_result = multiply_matrices(m1, m2)\n",
    "    print(\"Multiplication of the matrices:\")\n",
    "    for row in multiplication_result:\n",
    "        print(row)\n",
    "else:\n",
    "    print(\"Matrices cannot be multiplied. Invalid dimensions.\")\n",
    "\n",
    "transpose_result = transpose_matrix(m1)\n",
    "print(\"Transpose of matrix1:\")\n",
    "for row in transpose_result:\n",
    "    print(row)\n"
   ]
  }
 ],
 "metadata": {
  "kernelspec": {
   "display_name": "Python 3 (ipykernel)",
   "language": "python",
   "name": "python3"
  },
  "language_info": {
   "codemirror_mode": {
    "name": "ipython",
    "version": 3
   },
   "file_extension": ".py",
   "mimetype": "text/x-python",
   "name": "python",
   "nbconvert_exporter": "python",
   "pygments_lexer": "ipython3",
   "version": "3.10.9"
  }
 },
 "nbformat": 4,
 "nbformat_minor": 5
}
