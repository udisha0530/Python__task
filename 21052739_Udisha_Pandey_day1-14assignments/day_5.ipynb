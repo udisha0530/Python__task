{
 "cells": [
  {
   "cell_type": "markdown",
   "id": "a4fec7ef",
   "metadata": {},
   "source": [
    "### QUES1\n",
    "\n",
    "#### SHALLOW COPY\n",
    "1. A shallow copy creates a new compound object and then references the objects contained in the original within it, which means it constructs a new collection object and then populates it with references to the child objects found in the original.\n",
    "2. any changes made to a copy of an object do reflect in the original object. \n",
    "3. In python, this is implemented using the “copy()” function. \n",
    "#### DEEP COPY\n",
    "1. A deep copy creates a new compound object before inserting copies of the items found in the original into it in a recursive manner. It means first constructing a new collection object and then recursively populating it with copies of the child objects found in the original. \n",
    "2. any changes made to a copy of an object do reflect in the original object.\n",
    "3. In python, this is implemented using the “deepcopy()” function. "
   ]
  },
  {
   "cell_type": "code",
   "execution_count": 2,
   "id": "32c3933e",
   "metadata": {},
   "outputs": [
    {
     "name": "stdout",
     "output_type": "stream",
     "text": [
      "[[1, 'The Great Gatsby', 'F. Scott Fitzgerald', 5], [2, 'To Kill a Mockingbird', 'Harper Lee', 10], [3, 'Pride and Prejudice', 'Jane Austen', 6], [4, '1984', 'George Orwell', 3], [5, 'The Catcher in the Rye', 'J.D. Salinger', 3]]\n",
      "[[101, 'Aditya', [1, 3]], [102, 'Dev', [2]], [103, 'Mohit', []], [104, 'Sarah', [4, 5]], [105, 'Amit', []]]\n"
     ]
    }
   ],
   "source": [
    "#QUES2\n",
    "\n",
    "# List to store book information [book_id, book_title, book_author, no_copies_available]\n",
    "books = [\n",
    "    [1, \"The Great Gatsby\", \"F. Scott Fitzgerald\", 5],\n",
    "    [2, \"To Kill a Mockingbird\", \"Harper Lee\", 10],\n",
    "    [3, \"Pride and Prejudice\", \"Jane Austen\", 6],\n",
    "    [4, \"1984\", \"George Orwell\", 3],\n",
    "    [5, \"The Catcher in the Rye\", \"J.D. Salinger\", 3]\n",
    "]\n",
    "\n",
    "# List to store student information [student_id, student_name, books_borrowed]\n",
    "students = [\n",
    "    [101, \"Aditya\", [1, 3]],\n",
    "    [102, \"Dev\", [2]],\n",
    "    [103, \"Mohit\", []],\n",
    "    [104, \"Sarah\", [4, 5]],\n",
    "    [105, \"Amit\", []]\n",
    "]\n",
    "print(books)\n",
    "print(students)"
   ]
  },
  {
   "cell_type": "markdown",
   "id": "538dc250",
   "metadata": {},
   "source": [
    "### QUES3\n",
    "\n",
    "#### Statements\n",
    "1. A statement is a group of expressions and/or statements that you design to carry out a task or an action.\n",
    "2. Statements can only be declared.\n",
    "3. Statements are the whole structure.\n",
    "#### Expression\n",
    "1. An expression is a combination of operators and operands that is interpreted to produce some other value.\n",
    "2. Expressions can be assigned or used as operands.\n",
    "3. expressions are the building blocks."
   ]
  },
  {
   "cell_type": "markdown",
   "id": "d03427e7",
   "metadata": {},
   "source": [
    "### QUES4\n",
    "\n",
    "**`ATOMIC DATA TYPE/PRIMARY DATA TYPE: `** \n",
    "Python has several primary data types, which are also known as built-in or fundamental data types. These primary data types include:\n",
    "\n",
    "1. Integer (`int`)\n",
    "2. Float (`float`)\n",
    "\n",
    "3. Boolean (`bool`)\n",
    "\n",
    "4. String (`str`)\n",
    "\n",
    "5. List (`list`).\n",
    "\n",
    "6. Tuple (`tuple`)\n",
    "7. Dictionary (`dict`)\n",
    "\n",
    "8. Set (`set`)\n",
    "\n",
    "**`USER DEFINED /SECONDARY DATA TYPE`**\n",
    "\n",
    "A user-defined data type (UDT) is a data type that derived from an existing data type.\n",
    "\n"
   ]
  },
  {
   "cell_type": "markdown",
   "id": "82ac6804",
   "metadata": {},
   "source": [
    "### QUES5 \n",
    "\n",
    "#### User defined functions\n",
    "\n",
    "A function is a set of statements that take inputs, do some specific computation and produce output\n",
    "\n",
    "All the functions that are written by any us comes under the category of user defined functions.\n",
    "\n",
    "Below are the steps for writing user defined functions in Python.\n",
    " \n",
    "\n",
    " * In Python, def keyword is used to declare user defined functions. \n",
    " \n",
    "* An indented block of statements follows the function name and arguments which contains the body of the function. "
   ]
  },
  {
   "cell_type": "code",
   "execution_count": null,
   "id": "b99739aa",
   "metadata": {},
   "outputs": [],
   "source": []
  }
 ],
 "metadata": {
  "kernelspec": {
   "display_name": "Python 3 (ipykernel)",
   "language": "python",
   "name": "python3"
  },
  "language_info": {
   "codemirror_mode": {
    "name": "ipython",
    "version": 3
   },
   "file_extension": ".py",
   "mimetype": "text/x-python",
   "name": "python",
   "nbconvert_exporter": "python",
   "pygments_lexer": "ipython3",
   "version": "3.10.9"
  }
 },
 "nbformat": 4,
 "nbformat_minor": 5
}
