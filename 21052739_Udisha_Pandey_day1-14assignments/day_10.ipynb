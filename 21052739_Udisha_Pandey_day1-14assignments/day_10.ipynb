{
 "cells": [
  {
   "cell_type": "markdown",
   "id": "dd4c0081",
   "metadata": {},
   "source": [
    "#### 1.Python Program to Check Palindrome Number \n",
    "\n",
    "#### 2.Python Program to Print all multiples of 3 and 5 in an Interval \n",
    "\n",
    "#### 3.Python Program to Find the Factorial of a Number \n",
    "\n",
    "#### 4.Python Program to Print the Fibonacci sequence \n",
    "\n",
    "#### 5.Python Program to Check Armstrong Number "
   ]
  },
  {
   "cell_type": "code",
   "execution_count": 7,
   "id": "dfe899ec",
   "metadata": {},
   "outputs": [
    {
     "name": "stdout",
     "output_type": "stream",
     "text": [
      "Enter a number: 1221\n",
      "1221 is a palindrome number.\n"
     ]
    }
   ],
   "source": [
    "def reverse_number(number):\n",
    "    reverse = 0\n",
    "    while number > 0:\n",
    "        digit = number % 10\n",
    "        reverse = reverse * 10 + digit\n",
    "        number //= 10\n",
    "    return reverse\n",
    "\n",
    "num = int(input(\"Enter a number: \"))\n",
    "rev=reverse_number(num)\n",
    "\n",
    "\n",
    "if num==rev:\n",
    "    print(f\"{num} is a palindrome number.\")\n",
    "else:\n",
    "    print(f\"{num} is not a palindrome number.\")\n"
   ]
  },
  {
   "cell_type": "code",
   "execution_count": 8,
   "id": "48035349",
   "metadata": {},
   "outputs": [
    {
     "name": "stdout",
     "output_type": "stream",
     "text": [
      "Enter the starting number: 1\n",
      "Enter the ending number: 20\n",
      "Multiples of 3 and 5: [3, 5, 6, 9, 10, 12, 15, 18, 20]\n"
     ]
    }
   ],
   "source": [
    "def print_multiples(start, end):\n",
    "    multiples = []\n",
    "    for num in range(start, end + 1):\n",
    "        if num % 3 == 0 or num % 5 == 0:\n",
    "            multiples.append(num)\n",
    "    return multiples\n",
    "\n",
    "\n",
    "start = int(input(\"Enter the starting number: \"))\n",
    "end = int(input(\"Enter the ending number: \"))\n",
    "\n",
    "\n",
    "result = print_multiples(start, end)\n",
    "print(\"Multiples of 3 and 5:\", result)\n"
   ]
  },
  {
   "cell_type": "code",
   "execution_count": 9,
   "id": "e189e618",
   "metadata": {},
   "outputs": [
    {
     "name": "stdout",
     "output_type": "stream",
     "text": [
      "Enter a number: 6\n",
      "Factorial of 6 is 720\n"
     ]
    }
   ],
   "source": [
    "def factorial(number):\n",
    "    fact = 1\n",
    "    for num in range(1, number + 1):\n",
    "        fact *= num\n",
    "    return fact\n",
    "\n",
    "num = int(input(\"Enter a number: \"))\n",
    "\n",
    "fact = factorial(num)\n",
    "print(\"Factorial of\", num, \"is\", fact)\n"
   ]
  },
  {
   "cell_type": "code",
   "execution_count": 10,
   "id": "54833837",
   "metadata": {},
   "outputs": [
    {
     "name": "stdout",
     "output_type": "stream",
     "text": [
      "Enter the number of terms: 4\n",
      "Fibonacci Sequence: [0, 1, 1, 2]\n"
     ]
    }
   ],
   "source": [
    "def fibonacci_sequence(n):\n",
    "    sequence = [0, 1]\n",
    "    for i in range(2, n):\n",
    "        next_num = sequence[i-1] + sequence[i-2]\n",
    "        sequence.append(next_num)\n",
    "    return sequence\n",
    "\n",
    "\n",
    "terms = int(input(\"Enter the number of terms: \"))\n",
    "\n",
    "\n",
    "result = fibonacci_sequence(terms)\n",
    "print(\"Fibonacci Sequence:\", result)\n"
   ]
  },
  {
   "cell_type": "code",
   "execution_count": 1,
   "id": "da42e75c",
   "metadata": {},
   "outputs": [
    {
     "name": "stdout",
     "output_type": "stream",
     "text": [
      "Enter a number: 123\n",
      "123 is not an Armstrong number.\n"
     ]
    }
   ],
   "source": [
    "def check_armstrong(num):\n",
    "    sum = 0\n",
    "    temp = num\n",
    "    while temp > 0:\n",
    "        digit = temp % 10\n",
    "        sum += digit ** 3\n",
    "        temp //= 10\n",
    "    if num == sum:\n",
    "        return True\n",
    "    else:\n",
    "        return False\n",
    "num = int(input(\"Enter a number: \"))\n",
    "\n",
    "\n",
    "if check_armstrong(num):\n",
    "    print(f\"{num} is an Armstrong number.\")\n",
    "else:\n",
    "    print(f\"{num} is not an Armstrong number.\")\n"
   ]
  },
  {
   "cell_type": "code",
   "execution_count": null,
   "id": "0853571b",
   "metadata": {},
   "outputs": [],
   "source": []
  }
 ],
 "metadata": {
  "kernelspec": {
   "display_name": "Python 3 (ipykernel)",
   "language": "python",
   "name": "python3"
  },
  "language_info": {
   "codemirror_mode": {
    "name": "ipython",
    "version": 3
   },
   "file_extension": ".py",
   "mimetype": "text/x-python",
   "name": "python",
   "nbconvert_exporter": "python",
   "pygments_lexer": "ipython3",
   "version": "3.10.9"
  }
 },
 "nbformat": 4,
 "nbformat_minor": 5
}
