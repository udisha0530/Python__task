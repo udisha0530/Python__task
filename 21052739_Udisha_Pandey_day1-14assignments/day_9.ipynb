{
 "cells": [
  {
   "cell_type": "markdown",
   "id": "321dafa3",
   "metadata": {},
   "source": [
    "#### 1. Write a Python program to check whether a number is negative, positive or zero."
   ]
  },
  {
   "cell_type": "code",
   "execution_count": 3,
   "id": "aa1e2c27",
   "metadata": {},
   "outputs": [
    {
     "name": "stdout",
     "output_type": "stream",
     "text": [
      "Enter a number: 0\n",
      "0 is zero \n"
     ]
    }
   ],
   "source": [
    "a=int(input(\"Enter a number: \"))\n",
    "if a>0:\n",
    "    print(f\"{a} is positive \")\n",
    "elif a<0:\n",
    "     print(f\"{a} is negative \")\n",
    "else:\n",
    "     print(f\"{a} is zero \")"
   ]
  },
  {
   "cell_type": "markdown",
   "id": "e8c63c1c",
   "metadata": {},
   "source": [
    "#### 2.Write a Python program to check whether a number is divisible by 5 and 11 or not."
   ]
  },
  {
   "cell_type": "code",
   "execution_count": 9,
   "id": "587c6397",
   "metadata": {},
   "outputs": [
    {
     "name": "stdout",
     "output_type": "stream",
     "text": [
      "Enter a number: 5\n",
      "5 is not divisible by 5 and 11\n"
     ]
    }
   ],
   "source": [
    "a=int(input(\"Enter a number: \"))\n",
    "if (a%5==0) & (a%11==0):\n",
    "    print(f\"{a} is divisible by 5 and 11\")\n",
    "else:\n",
    "    print(f\"{a} is not divisible by 5 and 11\")"
   ]
  },
  {
   "cell_type": "markdown",
   "id": "9c643526",
   "metadata": {},
   "source": [
    "#### 3.Write a Python program to check whether a year is leap year or not"
   ]
  },
  {
   "cell_type": "code",
   "execution_count": 11,
   "id": "239c9431",
   "metadata": {},
   "outputs": [
    {
     "name": "stdout",
     "output_type": "stream",
     "text": [
      "Enter a year: 2004\n",
      "2004 is  leap year\n"
     ]
    }
   ],
   "source": [
    "a=int(input(\"Enter a year: \"))\n",
    "if a%4==0:\n",
    "    if a%100==0:\n",
    "        if a%400==0:\n",
    "            print(f\"{a} is  leap year\")\n",
    "        else:\n",
    "             print(f\"{a} is  not year\")\n",
    "            \n",
    "    else:\n",
    "        print(f\"{a} is  leap year\")\n",
    "else:\n",
    "     print(f\"{a} is not  leap year\")    \n",
    "        \n",
    "    "
   ]
  },
  {
   "cell_type": "markdown",
   "id": "fb14b185",
   "metadata": {},
   "source": [
    "####  4.Write a program to check whether character is alphabet or not"
   ]
  },
  {
   "cell_type": "code",
   "execution_count": 15,
   "id": "88b2dcc7",
   "metadata": {},
   "outputs": [
    {
     "name": "stdout",
     "output_type": "stream",
     "text": [
      "Enter Character:1\n",
      "Character is not alphabet\n"
     ]
    }
   ],
   "source": [
    "c=input(\"Enter Character:\")\n",
    "\n",
    "if c.isalpha():\n",
    "    print(\"Character is Alphabet\")\n",
    "else:\n",
    "    print(\"Character is not alphabet\")"
   ]
  },
  {
   "cell_type": "markdown",
   "id": "fc6ac96c",
   "metadata": {},
   "source": [
    "#### 5.Write a Python program to input any alphabet and check whether it is vowel or consonant"
   ]
  },
  {
   "cell_type": "code",
   "execution_count": 20,
   "id": "c7692924",
   "metadata": {},
   "outputs": [
    {
     "name": "stdout",
     "output_type": "stream",
     "text": [
      "Enter an alphabet:Z\n",
      "Consonant\n"
     ]
    }
   ],
   "source": [
    "c=input(\"Enter an alphabet:\")\n",
    "vowels=['a','e','i','o','u','A','O','I','E','U']\n",
    "if c in vowels:\n",
    "    print(\"Vowel\")\n",
    "else:\n",
    "    print(\"Consonant\")"
   ]
  },
  {
   "cell_type": "markdown",
   "id": "8f363494",
   "metadata": {},
   "source": [
    "#### 6.Write a Python program to input any character and check whether it is alphabet, digit or special character. "
   ]
  },
  {
   "cell_type": "code",
   "execution_count": 23,
   "id": "10bf8ff9",
   "metadata": {},
   "outputs": [
    {
     "name": "stdout",
     "output_type": "stream",
     "text": [
      "Enter a character:;\n",
      "Special Character\n"
     ]
    }
   ],
   "source": [
    "c=input(\"Enter a character:\")\n",
    "if c.isalpha():\n",
    "    print(\"Alphabet\")\n",
    "elif c.isdigit():\n",
    "    print(\"Digit\")\n",
    "else:\n",
    "    print(\"Special Character\")"
   ]
  },
  {
   "cell_type": "markdown",
   "id": "41bf850d",
   "metadata": {},
   "source": [
    "#### 7. Write a Python program to check whether a character is uppercase or lowercase alphabet. "
   ]
  },
  {
   "cell_type": "code",
   "execution_count": 27,
   "id": "3f816ba6",
   "metadata": {},
   "outputs": [
    {
     "name": "stdout",
     "output_type": "stream",
     "text": [
      "Enter a character:A\n",
      "Upper Case\n"
     ]
    }
   ],
   "source": [
    "c=input(\"Enter a character:\")\n",
    "if c.isalpha():\n",
    "    if c.isupper():\n",
    "        print(\"Upper Case\")\n",
    "    else:\n",
    "        print(\"lower case\")\n",
    "else:\n",
    "    print(\"not an alphabet\")"
   ]
  },
  {
   "cell_type": "markdown",
   "id": "afa6949f",
   "metadata": {},
   "source": [
    "#### 8.Write a Python program to input week number and print weekday"
   ]
  },
  {
   "cell_type": "code",
   "execution_count": 29,
   "id": "af36c763",
   "metadata": {},
   "outputs": [
    {
     "name": "stdout",
     "output_type": "stream",
     "text": [
      "Enter week number:9\n",
      "Invalid week\n"
     ]
    }
   ],
   "source": [
    "d=int(input(\"Enter week number:\"))\n",
    "if d==1:\n",
    "    print(\"Monday\")\n",
    "elif d==2:\n",
    "    print(\"Tuesday\")\n",
    "elif d==3:\n",
    "    print(\"Wednesday\")\n",
    "elif d==4:\n",
    "    print(\"Thursday\")\n",
    "elif d==5:\n",
    "    print(\"Friday\")\n",
    "elif d==6:\n",
    "    print(\"Saturday\")\n",
    "elif d==7:\n",
    "    print(\"Sunday\")\n",
    "else:\n",
    "    print(\"Invalid week\")"
   ]
  },
  {
   "cell_type": "markdown",
   "id": "2b638b6d",
   "metadata": {},
   "source": [
    "#### 9.Write a Python program to input angles of a triangle and check whether triangle is valid or not"
   ]
  },
  {
   "cell_type": "code",
   "execution_count": 33,
   "id": "0df76d62",
   "metadata": {},
   "outputs": [
    {
     "name": "stdout",
     "output_type": "stream",
     "text": [
      "Enter angle A:70\n",
      "Enter angle B:10\n",
      "Enter angle C:67\n",
      "Invalid Triangle\n"
     ]
    }
   ],
   "source": [
    "a=float(input(\"Enter angle A:\"))\n",
    "b=float(input(\"Enter angle B:\"))\n",
    "c=float(input(\"Enter angle C:\"))\n",
    "if (a+b+c)==180:\n",
    "    print(\"Valid Triangle\")\n",
    "else:\n",
    "    print(\"Invalid Triangle\")"
   ]
  },
  {
   "cell_type": "markdown",
   "id": "ded18c88",
   "metadata": {},
   "source": [
    "#### 10.Write a Python program to input all sides of a triangle and check whether triangle is valid or not. "
   ]
  },
  {
   "cell_type": "code",
   "execution_count": 38,
   "id": "4600970c",
   "metadata": {},
   "outputs": [
    {
     "name": "stdout",
     "output_type": "stream",
     "text": [
      "Enter side A:2\n",
      "Enter side B:1\n",
      "Enter side C:1\n",
      "Invalid Triangle\n"
     ]
    }
   ],
   "source": [
    "a=float(input(\"Enter side A:\"))\n",
    "b=float(input(\"Enter side B:\"))\n",
    "c=float(input(\"Enter side C:\"))\n",
    "if (a+b)>c:\n",
    "    if (b+c)>a:\n",
    "        if (a+c)>b:\n",
    "            print(\"Valid Triangle\")\n",
    "        else:\n",
    "            print(\"Invalid Triangle\") \n",
    "    else:\n",
    "        print(\"Invalid Triangle\")        \n",
    "else:\n",
    "    print(\"Invalid Triangle\")"
   ]
  },
  {
   "cell_type": "markdown",
   "id": "1b5f1317",
   "metadata": {},
   "source": [
    "#### 11.Write a Python program to check whether the triangle is equilateral, isosceles or scalene triangle. "
   ]
  },
  {
   "cell_type": "code",
   "execution_count": 46,
   "id": "18c3d487",
   "metadata": {},
   "outputs": [
    {
     "name": "stdout",
     "output_type": "stream",
     "text": [
      "Enter side A:3\n",
      "Enter side B:2\n",
      "Enter side C:1\n",
      "Invalid Triangle\n"
     ]
    }
   ],
   "source": [
    "def isValid(a,b,c):\n",
    "    if (a+b)>c:\n",
    "        if (b+c)>a:\n",
    "            if (a+c)>b:\n",
    "                return True\n",
    "            else:\n",
    "                return False \n",
    "        else:\n",
    "            return False      \n",
    "    else:\n",
    "        return False \n",
    "    \n",
    "a=float(input(\"Enter side A:\"))\n",
    "b=float(input(\"Enter side B:\"))\n",
    "c=float(input(\"Enter side C:\"))\n",
    "if isValid(a,b,c):\n",
    "    if (a==b)&(a==c)&(b==c):\n",
    "        print(\"Equilateral Triangle\")\n",
    "    elif (a==b)|(b==c)|(a==c):\n",
    "        print(\"Isosceles Triangle\")\n",
    "    else:\n",
    "        print(\"Scalene Triangle\")\n",
    "else:\n",
    "    print(\"Invalid Triangle\")"
   ]
  },
  {
   "cell_type": "markdown",
   "id": "74a44039",
   "metadata": {},
   "source": [
    "#### 12.Write a Python program to input marks of five subjects Physics, Chemistry, Biology, Mathematics and Computer. Calculate percentage and grade according to following:  "
   ]
  },
  {
   "cell_type": "code",
   "execution_count": 48,
   "id": "744c60e0",
   "metadata": {},
   "outputs": [
    {
     "name": "stdout",
     "output_type": "stream",
     "text": [
      "Enter Subject 1 marks:90\n",
      "Enter Subject 2 marks:89\n",
      "Enter Subject 3 marks:78\n",
      "Enter Subject 4 marks:67\n",
      "Enter Subject 5 marks:90\n",
      "Grade B\n"
     ]
    }
   ],
   "source": [
    "m1=int(input(\"Enter Subject 1 marks:\")) \n",
    "m2=int(input(\"Enter Subject 2 marks:\")) \n",
    "m3=int(input(\"Enter Subject 3 marks:\"))\n",
    "m4=int(input(\"Enter Subject 4 marks:\"))\n",
    "m5=int(input(\"Enter Subject 5 marks:\"))\n",
    "total=m1+m2+m3+m4+m5\n",
    "Percentage=total*0.2\n",
    "if Percentage >= 90: \n",
    "    print(\"Grade A\") \n",
    "elif Percentage >= 80:\n",
    "    print(\"Grade B\") \n",
    "elif Percentage >= 70:\n",
    "    print(\"Grade C\")\n",
    "elif Percentage >= 60:\n",
    "     print(\"Grade D\")\n",
    "elif Percentage >= 40:\n",
    "     print(\"Grade E\")\n",
    "else:\n",
    "    print(\"Grade F\")\n",
    "                               \n",
    "\n",
    "                                 \n",
    "\n",
    "                               \n"
   ]
  },
  {
   "cell_type": "markdown",
   "id": "27c865e4",
   "metadata": {},
   "source": [
    "#### 13.Write a Python program to input basic salary of an employee and calculate its Gross salary according to following:  \n",
    "\n",
    "               Basic Salary <= 10000 : HRA = 20%, DA = 80% \n",
    "\n",
    "               Basic Salary <= 20000 : HRA = 25%, DA = 90% \n",
    "\n",
    "               Basic Salary > 20000 : HRA = 30%, DA = 95% "
   ]
  },
  {
   "cell_type": "code",
   "execution_count": 53,
   "id": "4782d5a9",
   "metadata": {},
   "outputs": [
    {
     "name": "stdout",
     "output_type": "stream",
     "text": [
      "Enter Basic Salary:1000\n",
      "Basic Salary:1000.0\n",
      "HRA:20%\n",
      "DA:80%\n",
      "Gross Salary:2000.0\n"
     ]
    }
   ],
   "source": [
    "sal=float(input(\"Enter Basic Salary:\"))\n",
    "if sal<=10000:\n",
    "    hra=20\n",
    "    da=80\n",
    "elif sal<=20000:\n",
    "    hra=25\n",
    "    da=90\n",
    "else:\n",
    "    hra=30\n",
    "    da=95\n",
    "    \n",
    "gross=sal+sal*hra/100+sal*da/100\n",
    "print(f\"Basic Salary:{sal}\")\n",
    "print(f\"HRA:{hra}%\")\n",
    "print(f\"DA:{da}%\")\n",
    "print(f\"Gross Salary:{gross}\")\n",
    "\n",
    "    "
   ]
  },
  {
   "cell_type": "markdown",
   "id": "ba2ea97a",
   "metadata": {},
   "source": [
    "#### 14.Write a Python Program to input electricity unit charges and calculate total electricity bill according to the given condition:  \n",
    "\n",
    "                       For first 50 units Rs. 0.50/unit \n",
    "                       For next 100 units Rs. 0.75/unit \n",
    "                       For next 100 units Rs. 1.20/unit \n",
    "                       For unit above 250 Rs. 1.50/unit \n",
    "                       An additional surcharge of 20% is added to the bill "
   ]
  },
  {
   "cell_type": "code",
   "execution_count": 55,
   "id": "a2f7eeb9",
   "metadata": {},
   "outputs": [
    {
     "name": "stdout",
     "output_type": "stream",
     "text": [
      "Enter the number of electricity units consumed: 456\n",
      "Total electricity bill: Rs. 634.8\n"
     ]
    }
   ],
   "source": [
    "def calculate_electricity_bill(units):\n",
    "    total_bill = 0\n",
    "    \n",
    "    if units <= 50:\n",
    "        total_bill = units * 0.50\n",
    "    elif units <= 150:\n",
    "        total_bill = 50 * 0.50 + (units - 50) * 0.75\n",
    "    elif units <= 250:\n",
    "        total_bill = 50 * 0.50 + 100 * 0.75 + (units - 150) * 1.20\n",
    "    else:\n",
    "        total_bill = 50 * 0.50 + 100 * 0.75 + 100 * 1.20 + (units - 250) * 1.50\n",
    "    \n",
    "    surcharge = total_bill * 0.20  # 20% surcharge\n",
    "    total_bill += surcharge\n",
    "    \n",
    "    return total_bill\n",
    "\n",
    "units = float(input(\"Enter the number of electricity units consumed: \"))\n",
    "\n",
    "bill = calculate_electricity_bill(units)\n",
    "\n",
    "print(\"Total electricity bill: Rs.\", bill)\n"
   ]
  },
  {
   "cell_type": "code",
   "execution_count": null,
   "id": "74aba518",
   "metadata": {},
   "outputs": [],
   "source": []
  },
  {
   "cell_type": "code",
   "execution_count": null,
   "id": "a1159939",
   "metadata": {},
   "outputs": [],
   "source": []
  }
 ],
 "metadata": {
  "kernelspec": {
   "display_name": "Python 3 (ipykernel)",
   "language": "python",
   "name": "python3"
  },
  "language_info": {
   "codemirror_mode": {
    "name": "ipython",
    "version": 3
   },
   "file_extension": ".py",
   "mimetype": "text/x-python",
   "name": "python",
   "nbconvert_exporter": "python",
   "pygments_lexer": "ipython3",
   "version": "3.10.9"
  }
 },
 "nbformat": 4,
 "nbformat_minor": 5
}
