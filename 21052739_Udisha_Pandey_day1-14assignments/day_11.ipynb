{
 "cells": [
  {
   "cell_type": "code",
   "execution_count": 5,
   "id": "3dadcea1",
   "metadata": {},
   "outputs": [
    {
     "name": "stdout",
     "output_type": "stream",
     "text": [
      "* \n",
      "* * \n",
      "* * * \n",
      "* * * * \n",
      "* * * * * \n",
      "* * * * * * \n"
     ]
    }
   ],
   "source": [
    "i=0\n",
    "while i<=5:\n",
    "    j=0\n",
    "    while j<=i:\n",
    "        print(\"*\",end=' ')\n",
    "        j=j+1\n",
    "    print()\n",
    "    i=i+1"
   ]
  },
  {
   "cell_type": "code",
   "execution_count": 9,
   "id": "3bcf0834",
   "metadata": {},
   "outputs": [
    {
     "name": "stdout",
     "output_type": "stream",
     "text": [
      "1 \n",
      "2 2 \n",
      "3 3 3 \n",
      "4 4 4 4 \n",
      "5 5 5 5 5 \n"
     ]
    }
   ],
   "source": [
    "i=1\n",
    "while i<=5:\n",
    "    j=1\n",
    "    while j<=i:\n",
    "        print(f\"{i}\",end=' ')\n",
    "        j=j+1\n",
    "    print()\n",
    "    i=i+1"
   ]
  },
  {
   "cell_type": "code",
   "execution_count": 10,
   "id": "2e5e96b2",
   "metadata": {},
   "outputs": [
    {
     "name": "stdout",
     "output_type": "stream",
     "text": [
      "1 \n",
      "1 2 \n",
      "1 2 3 \n",
      "1 2 3 4 \n",
      "1 2 3 4 5 \n"
     ]
    }
   ],
   "source": [
    "i=1\n",
    "while i<=5:\n",
    "    j=1\n",
    "    while j<=i:\n",
    "        print(f\"{j}\",end=' ')\n",
    "        j=j+1\n",
    "    print()\n",
    "    i=i+1"
   ]
  },
  {
   "cell_type": "code",
   "execution_count": 12,
   "id": "2e0999c2",
   "metadata": {},
   "outputs": [
    {
     "name": "stdout",
     "output_type": "stream",
     "text": [
      "2 \n",
      "3 4 \n",
      "4 5 6 \n",
      "5 6 7 8 \n",
      "6 7 8 9 10 \n"
     ]
    }
   ],
   "source": [
    "i=1\n",
    "while i<=5:\n",
    "    j=1\n",
    "    count=i+1\n",
    "    while j<=i:\n",
    "        print(f\"{count}\",end=' ')\n",
    "        count=count+1\n",
    "        j=j+1\n",
    "    print()\n",
    "    i=i+1"
   ]
  },
  {
   "cell_type": "code",
   "execution_count": 22,
   "id": "f958ff99",
   "metadata": {},
   "outputs": [
    {
     "name": "stdout",
     "output_type": "stream",
     "text": [
      "1  \n",
      "0  1  \n",
      "1  0  1  \n",
      "0  1  0  1  \n",
      "1  0  1  0  1  \n"
     ]
    }
   ],
   "source": [
    "i=1\n",
    "while i<=5:\n",
    "    if i%2:\n",
    "        f=1\n",
    "    else:\n",
    "        f=0\n",
    "    j=1 \n",
    "    while j<=i:\n",
    "        print(f\"{f} \",end=' ')\n",
    "        if f==1:\n",
    "            f=0\n",
    "        else:\n",
    "            f=1\n",
    "        j=j+1\n",
    "    print()\n",
    "    i=i+1"
   ]
  },
  {
   "cell_type": "code",
   "execution_count": 23,
   "id": "146dc39d",
   "metadata": {},
   "outputs": [
    {
     "name": "stdout",
     "output_type": "stream",
     "text": [
      "1 \n",
      "2 3 \n",
      "4 5 6 \n",
      "7 8 9 10 \n",
      "11 12 13 14 15 \n"
     ]
    }
   ],
   "source": [
    "i=1\n",
    "count=1\n",
    "while i<=5:\n",
    "    j=1\n",
    "    while j<=i:\n",
    "        print(f\"{count}\",end=' ')\n",
    "        count=count+1\n",
    "        j=j+1\n",
    "    print()\n",
    "    i=i+1"
   ]
  },
  {
   "cell_type": "code",
   "execution_count": 24,
   "id": "b67c8284",
   "metadata": {},
   "outputs": [
    {
     "name": "stdout",
     "output_type": "stream",
     "text": [
      "5 \n",
      "5 4 \n",
      "5 4 3 \n",
      "5 4 3 2 \n",
      "5 4 3 2 1 \n"
     ]
    }
   ],
   "source": [
    "i=0\n",
    "while i<5:\n",
    "    j=0\n",
    "    count=i+1\n",
    "    while j<=i:\n",
    "        print(f\"{5-j}\",end=' ')\n",
    "        count=count+1\n",
    "        j=j+1\n",
    "    print()\n",
    "    i=i+1"
   ]
  },
  {
   "cell_type": "code",
   "execution_count": 25,
   "id": "60db659d",
   "metadata": {},
   "outputs": [
    {
     "name": "stdout",
     "output_type": "stream",
     "text": [
      "5 \n",
      "4 4 \n",
      "3 3 3 \n",
      "2 2 2 2 \n",
      "1 1 1 1 1 \n"
     ]
    }
   ],
   "source": [
    "i=0\n",
    "while i<5:\n",
    "    j=0\n",
    "    count=i+1\n",
    "    while j<=i:\n",
    "        print(f\"{5-i}\",end=' ')\n",
    "        count=count+1\n",
    "        j=j+1\n",
    "    print()\n",
    "    i=i+1"
   ]
  },
  {
   "cell_type": "code",
   "execution_count": 27,
   "id": "ad4d19dc",
   "metadata": {},
   "outputs": [
    {
     "name": "stdout",
     "output_type": "stream",
     "text": [
      "* * * * * \n",
      "* * * * \n",
      "* * * \n",
      "* * \n",
      "* \n"
     ]
    }
   ],
   "source": [
    "i=4\n",
    "while i>=0:\n",
    "    j=0\n",
    "    while j<=i:\n",
    "        print(\"*\",end=' ')\n",
    "        j=j+1\n",
    "    print()\n",
    "    i=i-1"
   ]
  },
  {
   "cell_type": "code",
   "execution_count": 16,
   "id": "510693f3",
   "metadata": {},
   "outputs": [
    {
     "name": "stdout",
     "output_type": "stream",
     "text": [
      "1 1 1 1 1 \n",
      "2 2 2 2 \n",
      "3 3 3 \n",
      "2 2 \n",
      "1 \n"
     ]
    }
   ],
   "source": [
    "n=5\n",
    "i=0\n",
    "while i<n/2:\n",
    "    j=1\n",
    "    while j<=(n-i):\n",
    "        print(f\"{i+1}\",end=' ')\n",
    "        j=j+1\n",
    "    print()    \n",
    "    i=i+1  \n",
    "while i<n:\n",
    "    j=1\n",
    "    while j<=(n-i):\n",
    "        print(f\"{n-i}\",end=' ')\n",
    "        j=j+1\n",
    "    print()    \n",
    "    i=i+1      \n",
    "    \n",
    "    "
   ]
  },
  {
   "cell_type": "code",
   "execution_count": 17,
   "id": "72df6c6c",
   "metadata": {},
   "outputs": [
    {
     "name": "stdout",
     "output_type": "stream",
     "text": [
      "1 2 3 4 5 \n",
      "1 2 3 4 \n",
      "1 2 3 \n",
      "1 2 \n",
      "1 \n"
     ]
    }
   ],
   "source": [
    "i=4\n",
    "while i>=0:\n",
    "    j=0\n",
    "    while j<=i:\n",
    "        print(f\"{j+1}\",end=' ')\n",
    "        j=j+1\n",
    "    print()\n",
    "    i=i-1"
   ]
  },
  {
   "cell_type": "code",
   "execution_count": 18,
   "id": "de098a37",
   "metadata": {},
   "outputs": [
    {
     "name": "stdout",
     "output_type": "stream",
     "text": [
      "5 5 5 5 5 \n",
      "4 4 4 4 \n",
      "3 3 3 \n",
      "2 2 \n",
      "1 \n"
     ]
    }
   ],
   "source": [
    "i=4\n",
    "while i>=0:\n",
    "    j=0\n",
    "    while j<=i:\n",
    "        print(f\"{i+1}\",end=' ')\n",
    "        j=j+1\n",
    "    print()\n",
    "    i=i-1"
   ]
  },
  {
   "cell_type": "code",
   "execution_count": 20,
   "id": "5303f22d",
   "metadata": {},
   "outputs": [
    {
     "name": "stdout",
     "output_type": "stream",
     "text": [
      "5 4 3 2 1 \n",
      "5 4 3 2 \n",
      "5 4 3 \n",
      "5 4 \n",
      "5 \n"
     ]
    }
   ],
   "source": [
    "n=5\n",
    "i=5\n",
    "while i>0:\n",
    "    j=0\n",
    "    while j<i:\n",
    "        print(f\"{n-j}\",end=' ')\n",
    "        j=j+1\n",
    "    print()\n",
    "    i=i-1"
   ]
  },
  {
   "cell_type": "code",
   "execution_count": 12,
   "id": "57dcf056",
   "metadata": {},
   "outputs": [
    {
     "name": "stdout",
     "output_type": "stream",
     "text": [
      "     \n",
      "    * \n",
      "   * * \n",
      "  * * * \n",
      " * * * * \n",
      "* * * * * \n"
     ]
    }
   ],
   "source": [
    "i=0\n",
    "while i<=5:\n",
    "    j=0\n",
    "    while j<5-i:\n",
    "        print(\" \",end=\"\")\n",
    "        j=j+1\n",
    "    k=0    \n",
    "    while k<i:\n",
    "        print(\"* \",end=\"\")\n",
    "        k=k+1\n",
    "    i=i+1    \n",
    "    print()   "
   ]
  },
  {
   "cell_type": "code",
   "execution_count": 14,
   "id": "a9118325",
   "metadata": {},
   "outputs": [
    {
     "name": "stdout",
     "output_type": "stream",
     "text": [
      "     \n",
      "    1 \n",
      "   1 2 \n",
      "  1 2 3 \n",
      " 1 2 3 4 \n",
      "1 2 3 4 5 \n"
     ]
    }
   ],
   "source": [
    "i=0\n",
    "while i<=5:\n",
    "    j=0\n",
    "    while j<5-i:\n",
    "        print(\" \",end=\"\")\n",
    "        j=j+1\n",
    "    k=0    \n",
    "    while k<i:\n",
    "        print(f\"{k+1} \",end=\"\")\n",
    "        k=k+1\n",
    "    i=i+1    \n",
    "    print()   "
   ]
  },
  {
   "cell_type": "code",
   "execution_count": 13,
   "id": "6180f3e3",
   "metadata": {},
   "outputs": [
    {
     "name": "stdout",
     "output_type": "stream",
     "text": [
      "     \n",
      "    *\n",
      "   **\n",
      "  ***\n",
      " ****\n",
      "*****\n"
     ]
    }
   ],
   "source": [
    "i=0\n",
    "while i<=5:\n",
    "    j=0\n",
    "    while j<5-i:\n",
    "        print(\" \",end=\"\")\n",
    "        j=j+1\n",
    "    k=0    \n",
    "    while k<i:\n",
    "        print(\"*\",end=\"\")\n",
    "        k=k+1\n",
    "    i=i+1    \n",
    "    print()    "
   ]
  },
  {
   "cell_type": "code",
   "execution_count": 15,
   "id": "5e910b02",
   "metadata": {},
   "outputs": [
    {
     "name": "stdout",
     "output_type": "stream",
     "text": [
      "     \n",
      "    1\n",
      "   12\n",
      "  123\n",
      " 1234\n",
      "12345\n"
     ]
    }
   ],
   "source": [
    "i=0\n",
    "while i<=5:\n",
    "    j=0\n",
    "    while j<5-i:\n",
    "        print(\" \",end=\"\")\n",
    "        j=j+1\n",
    "    k=0    \n",
    "    while k<i:\n",
    "        print(f\"{k+1}\",end=\"\")\n",
    "        k=k+1\n",
    "    i=i+1    \n",
    "    print()   "
   ]
  },
  {
   "cell_type": "code",
   "execution_count": 55,
   "id": "d470bed2",
   "metadata": {},
   "outputs": [
    {
     "name": "stdout",
     "output_type": "stream",
     "text": [
      "    *\n",
      "   ***\n",
      "  *****\n",
      " *******\n",
      "*********\n"
     ]
    }
   ],
   "source": [
    "def print_pattern(rows):\n",
    "    i = 0\n",
    "    while i < rows:\n",
    "        j = 0\n",
    "        while j < rows - i - 1:\n",
    "            print(\" \", end=\"\")\n",
    "            j += 1\n",
    "        k = 0\n",
    "        while k < 2 * i + 1:\n",
    "            print(\"*\", end=\"\")\n",
    "            k += 1\n",
    "        print()\n",
    "        i += 1\n",
    "\n",
    "\n",
    "num_rows = 5 \n",
    "print_pattern(num_rows)    \n",
    "        \n",
    "    "
   ]
  },
  {
   "cell_type": "code",
   "execution_count": 54,
   "id": "a6bd88a2",
   "metadata": {},
   "outputs": [
    {
     "name": "stdout",
     "output_type": "stream",
     "text": [
      "        * \n",
      "      * * * \n",
      "    * * * * * \n",
      "  * * * * * * * \n",
      "* * * * * * * * * \n"
     ]
    }
   ],
   "source": [
    "def print_pattern(rows):\n",
    "    i = 0\n",
    "    while i < rows:\n",
    "        j = 0\n",
    "        while j < rows - i - 1:\n",
    "            print(\"  \", end=\"\")\n",
    "            j += 1\n",
    "        k = 0\n",
    "        while k < 2 * i + 1:\n",
    "            print(\"* \", end=\"\")\n",
    "            k += 1\n",
    "        print()\n",
    "        i += 1\n",
    "\n",
    "\n",
    "num_rows = 5  \n",
    "print_pattern(num_rows)\n",
    "\n",
    "\n",
    "\n"
   ]
  },
  {
   "cell_type": "code",
   "execution_count": 57,
   "id": "d237b6b9",
   "metadata": {},
   "outputs": [
    {
     "name": "stdout",
     "output_type": "stream",
     "text": [
      "    1\n",
      "   123\n",
      "  12345\n",
      " 1234567\n",
      "123456789\n"
     ]
    }
   ],
   "source": [
    "def print_pattern(rows):\n",
    "    i = 0\n",
    "    while i < rows:\n",
    "        j = 0\n",
    "        while j < rows - i - 1:\n",
    "            print(\" \", end=\"\")\n",
    "            j += 1\n",
    "        k = 0\n",
    "        while k < 2 * i + 1:\n",
    "            print(f\"{k+1}\", end=\"\")\n",
    "            k += 1\n",
    "        print()\n",
    "        i += 1\n",
    "\n",
    "\n",
    "num_rows = 5  \n",
    "print_pattern(num_rows)"
   ]
  },
  {
   "cell_type": "code",
   "execution_count": 58,
   "id": "00ed4191",
   "metadata": {},
   "outputs": [
    {
     "name": "stdout",
     "output_type": "stream",
     "text": [
      "    1\n",
      "   222\n",
      "  33333\n",
      " 4444444\n",
      "555555555\n"
     ]
    }
   ],
   "source": [
    "def print_pattern(rows):\n",
    "    i = 0\n",
    "    while i < rows:\n",
    "        j = 0\n",
    "        while j < rows - i - 1:\n",
    "            print(\" \", end=\"\")\n",
    "            j += 1\n",
    "        k = 0\n",
    "        while k < 2 * i + 1:\n",
    "            print(f\"{i+1}\", end=\"\")\n",
    "            k += 1\n",
    "        print()\n",
    "        i += 1\n",
    "\n",
    "\n",
    "num_rows = 5  \n",
    "print_pattern(num_rows)"
   ]
  },
  {
   "cell_type": "code",
   "execution_count": 70,
   "id": "19f6013e",
   "metadata": {},
   "outputs": [
    {
     "name": "stdout",
     "output_type": "stream",
     "text": [
      "    1\n",
      "   232\n",
      "  34543\n",
      " 4567654\n",
      "567898765\n"
     ]
    }
   ],
   "source": [
    " def print_pattern(rows):\n",
    "    i = 0\n",
    "    while i < rows:\n",
    "        j = 0\n",
    "        while j < rows - i - 1:\n",
    "            print(\" \", end=\"\")\n",
    "            j += 1\n",
    "        k = 0\n",
    "        ct=i\n",
    "        while k < 2 * i + 1:\n",
    "            if k==i:\n",
    "                while k < 2 * i + 1:\n",
    "                    print(f\"{ct+1}\", end=\"\")\n",
    "                    ct-=1\n",
    "                    k+=1\n",
    "                break\n",
    "                \n",
    "\n",
    "            else:\n",
    "                print(f\"{ct+1}\", end=\"\")\n",
    "                ct+=1\n",
    "                k += 1\n",
    "        print()\n",
    "        i += 1\n",
    "\n",
    "\n",
    "num_rows = 5  \n",
    "print_pattern(num_rows)"
   ]
  },
  {
   "cell_type": "code",
   "execution_count": 73,
   "id": "26e4907f",
   "metadata": {},
   "outputs": [
    {
     "name": "stdout",
     "output_type": "stream",
     "text": [
      "    5\n",
      "   545\n",
      "  54345\n",
      " 5432345\n",
      "543212345\n"
     ]
    }
   ],
   "source": [
    " def print_pattern(rows):\n",
    "    i = 0\n",
    "    while i < rows:\n",
    "        j = 0\n",
    "        while j < rows - i - 1:\n",
    "            print(\" \", end=\"\")\n",
    "            j += 1\n",
    "        k = 0\n",
    "        ct=rows\n",
    "        while k < 2 * i + 1:\n",
    "            if k==i:\n",
    "                while k < 2 * i + 1:\n",
    "                    print(f\"{ct}\", end=\"\")\n",
    "                    ct+=1\n",
    "                    k+=1\n",
    "                break\n",
    "                \n",
    "\n",
    "            else:\n",
    "                print(f\"{ct}\", end=\"\")\n",
    "                ct-=1\n",
    "                k += 1\n",
    "        print()\n",
    "        i += 1\n",
    "\n",
    "\n",
    "num_rows = 5  \n",
    "print_pattern(num_rows)"
   ]
  },
  {
   "cell_type": "code",
   "execution_count": 113,
   "id": "faa96199",
   "metadata": {},
   "outputs": [
    {
     "name": "stdout",
     "output_type": "stream",
     "text": [
      "*********\n",
      " *******\n",
      "  *****\n",
      "   ***\n",
      "    *\n"
     ]
    }
   ],
   "source": [
    "n=5\n",
    "i=n\n",
    "while i>0:\n",
    "    j=i\n",
    "    while j<n:\n",
    "        print(\" \",end=\"\")\n",
    "        j=j+1\n",
    "    k = 0\n",
    "    while k < 2 * i - 1:\n",
    "        print(\"*\", end=\"\")\n",
    "        k += 1\n",
    "    \n",
    "      \n",
    "    print()\n",
    "    i -= 1\n",
    "        \n",
    "\n",
    "        "
   ]
  },
  {
   "cell_type": "code",
   "execution_count": 114,
   "id": "fa8fa31b",
   "metadata": {},
   "outputs": [
    {
     "name": "stdout",
     "output_type": "stream",
     "text": [
      "555555555\n",
      " 4444444\n",
      "  33333\n",
      "   222\n",
      "    1\n"
     ]
    }
   ],
   "source": [
    "n=5\n",
    "i=n\n",
    "while i>0:\n",
    "    j=i\n",
    "    while j<n:\n",
    "        print(\" \",end=\"\")\n",
    "        j=j+1\n",
    "    k = 0\n",
    "    while k < 2 * i - 1:\n",
    "        print(f\"{i}\", end=\"\")\n",
    "        k += 1\n",
    "    \n",
    "      \n",
    "    print()\n",
    "    i -= 1\n",
    "        "
   ]
  },
  {
   "cell_type": "code",
   "execution_count": 115,
   "id": "f10dd8ce",
   "metadata": {},
   "outputs": [
    {
     "name": "stdout",
     "output_type": "stream",
     "text": [
      "123456789\n",
      " 1234567\n",
      "  12345\n",
      "   123\n",
      "    1\n"
     ]
    }
   ],
   "source": [
    "n=5\n",
    "i=n\n",
    "while i>0:\n",
    "    j=i\n",
    "    while j<n:\n",
    "        print(\" \",end=\"\")\n",
    "        j=j+1\n",
    "    k = 0\n",
    "    while k < 2 * i - 1:\n",
    "        print(f\"{k+1}\", end=\"\")\n",
    "        k += 1\n",
    "    \n",
    "      \n",
    "    print()\n",
    "    i -= 1\n",
    "        "
   ]
  },
  {
   "cell_type": "code",
   "execution_count": 129,
   "id": "37b8666c",
   "metadata": {},
   "outputs": [
    {
     "name": "stdout",
     "output_type": "stream",
     "text": [
      "567898765\n",
      " 4567654\n",
      "  34543\n",
      "   232\n",
      "    1\n"
     ]
    }
   ],
   "source": [
    "n=5\n",
    "i=n\n",
    "while i>0:\n",
    "    j=i\n",
    "    while j<n:\n",
    "        print(\" \",end=\"\")\n",
    "        j=j+1\n",
    "    ct=i\n",
    "    k = 0\n",
    "    while k < 2 * i - 1:\n",
    "        if k==i:\n",
    "            ct-=1\n",
    "            while k < 2 * i - 1:\n",
    "                    print(f\"{ct-1}\", end=\"\")\n",
    "                    ct-=1\n",
    "                    k+=1\n",
    "            break\n",
    "            \n",
    "        print(f\"{ct}\", end=\"\")\n",
    "        ct+=1\n",
    "        k += 1\n",
    "    \n",
    "      \n",
    "    print()\n",
    "    i -= 1\n",
    "        "
   ]
  },
  {
   "cell_type": "code",
   "execution_count": 133,
   "id": "25efb42b",
   "metadata": {},
   "outputs": [
    {
     "name": "stdout",
     "output_type": "stream",
     "text": [
      "543212345\n",
      " 5432345\n",
      "  54345\n",
      "   545\n",
      "    5\n"
     ]
    }
   ],
   "source": [
    "n=5\n",
    "i=n\n",
    "while i>0:\n",
    "    j=i\n",
    "    while j<n:\n",
    "        print(\" \",end=\"\")\n",
    "        j=j+1\n",
    "    ct=n\n",
    "    k = 0\n",
    "    while k < 2 * i - 1:\n",
    "        if k==i:\n",
    "            ct+=1\n",
    "            while k < 2 * i - 1:\n",
    "                    print(f\"{ct+1}\", end=\"\")\n",
    "                    ct+=1\n",
    "                    k+=1\n",
    "            break\n",
    "            \n",
    "        print(f\"{ct}\", end=\"\")\n",
    "        ct-=1\n",
    "        k += 1\n",
    "    \n",
    "      \n",
    "    print()\n",
    "    i -= 1\n",
    "        "
   ]
  },
  {
   "cell_type": "code",
   "execution_count": 54,
   "id": "e5196010",
   "metadata": {},
   "outputs": [
    {
     "name": "stdout",
     "output_type": "stream",
     "text": [
      "    *\n",
      "   ***\n",
      "  *****\n",
      " *******\n",
      "*********\n",
      " ******* \n",
      "  *****  \n",
      "   ***   \n",
      "    *    \n"
     ]
    }
   ],
   "source": [
    "rows=5\n",
    "i = 0\n",
    "while i < rows:\n",
    "    j = 0\n",
    "    while j < rows - i - 1:\n",
    "        print(\" \", end=\"\")\n",
    "        j += 1\n",
    "    k = 0\n",
    "    \n",
    "    while k < 2 * i + 1:\n",
    "        print(\"*\", end=\"\")\n",
    "        k += 1\n",
    "       \n",
    "  \n",
    "        \n",
    "        \n",
    "       \n",
    "    print()\n",
    "    i += 1\n",
    "i=rows-1\n",
    "while i>0:\n",
    "    j=i\n",
    "    while j<rows:\n",
    "        print(\" \",end=\"\")\n",
    "        j=j+1\n",
    "    k = 0\n",
    "   \n",
    "    while k < 2 * i - 1:\n",
    "       \n",
    "        print(\"*\", end=\"\")\n",
    "        k += 1\n",
    "    j=i\n",
    "    while j<rows:\n",
    "        print(\" \",end=\"\")\n",
    "        j=j+1    \n",
    "    \n",
    "      \n",
    "    print()\n",
    "    i -= 1"
   ]
  },
  {
   "cell_type": "code",
   "execution_count": 56,
   "id": "8ffef8a8",
   "metadata": {},
   "outputs": [
    {
     "name": "stdout",
     "output_type": "stream",
     "text": [
      "    1\n",
      "   222\n",
      "  33333\n",
      " 4444444\n",
      "555555555\n",
      " 4444444 \n",
      "  33333  \n",
      "   222   \n",
      "    1    \n"
     ]
    }
   ],
   "source": [
    "rows=5\n",
    "i = 0\n",
    "while i < rows:\n",
    "    j = 0\n",
    "    while j < rows - i - 1:\n",
    "        print(\" \", end=\"\")\n",
    "        j += 1\n",
    "    k = 0\n",
    "    \n",
    "    while k < 2 * i + 1:\n",
    "        print(f\"{i+1}\", end=\"\")\n",
    "        k += 1\n",
    "       \n",
    "  \n",
    "        \n",
    "        \n",
    "       \n",
    "    print()\n",
    "    i += 1\n",
    "i=rows-1\n",
    "while i>0:\n",
    "    j=i\n",
    "    while j<rows:\n",
    "        print(\" \",end=\"\")\n",
    "        j=j+1\n",
    "    k = 0\n",
    "   \n",
    "    while k < 2 * i - 1:\n",
    "       \n",
    "        print(f\"{i}\", end=\"\")\n",
    "        k += 1\n",
    "    j=i\n",
    "    while j<rows:\n",
    "        print(\" \",end=\"\")\n",
    "        j=j+1    \n",
    "    \n",
    "      \n",
    "    print()\n",
    "    i -= 1"
   ]
  },
  {
   "cell_type": "code",
   "execution_count": 59,
   "id": "35933403",
   "metadata": {},
   "outputs": [
    {
     "name": "stdout",
     "output_type": "stream",
     "text": [
      "    1\n",
      "   123\n",
      "  12345\n",
      " 1234567\n",
      "123456789\n",
      " 1234567 \n",
      "  12345  \n",
      "   123   \n",
      "    1    \n"
     ]
    }
   ],
   "source": [
    "rows=5\n",
    "i = 0\n",
    "while i < rows:\n",
    "    j = 0\n",
    "    while j < rows - i - 1:\n",
    "        print(\" \", end=\"\")\n",
    "        j += 1\n",
    "    k = 0\n",
    "    \n",
    "    while k < 2 * i + 1:\n",
    "        print(f\"{k+1}\", end=\"\")\n",
    "        k += 1\n",
    "       \n",
    "  \n",
    "        \n",
    "        \n",
    "       \n",
    "    print()\n",
    "    i += 1\n",
    "i=rows-1\n",
    "while i>0:\n",
    "    j=i\n",
    "    while j<rows:\n",
    "        print(\" \",end=\"\")\n",
    "        j=j+1\n",
    "    k = 0\n",
    "   \n",
    "    while k < 2 * i - 1:\n",
    "       \n",
    "        print(f\"{k+1}\", end=\"\")\n",
    "        k += 1\n",
    "    j=i\n",
    "    while j<rows:\n",
    "        print(\" \",end=\"\")\n",
    "        j=j+1    \n",
    "    \n",
    "      \n",
    "    print()\n",
    "    i -= 1"
   ]
  },
  {
   "cell_type": "code",
   "execution_count": 88,
   "id": "7a01fa3d",
   "metadata": {},
   "outputs": [
    {
     "name": "stdout",
     "output_type": "stream",
     "text": [
      "    1\n",
      "   232\n",
      "  34543\n",
      " 4567654\n",
      "567898765\n",
      " 4567654 \n",
      "  45654  \n",
      "   454   \n",
      "    4    \n"
     ]
    }
   ],
   "source": [
    "rows=5\n",
    "i = 0\n",
    "while i < rows:\n",
    "    j = 0\n",
    "    while j < rows - i - 1:\n",
    "        print(\" \", end=\"\")\n",
    "        j += 1\n",
    "    k = 0\n",
    "    ct=i\n",
    "    while k < 2 * i + 1:\n",
    "        if k==i:\n",
    "            while k < 2 * i + 1:\n",
    "                print(f\"{ct+1}\", end=\"\")\n",
    "                ct-=1\n",
    "                k+=1\n",
    "            break\n",
    "                \n",
    "\n",
    "        else:\n",
    "            print(f\"{ct+1}\", end=\"\")\n",
    "            ct+=1\n",
    "            k += 1\n",
    "    print()\n",
    "    i += 1\n",
    "i=rows-1\n",
    "while i>0:\n",
    "    j=i\n",
    "    while j<rows:\n",
    "        print(\" \",end=\"\")\n",
    "        j=j+1\n",
    "    k = 0\n",
    "   \n",
    "    while k < 2 * i - 1:\n",
    "       \n",
    "        if k==i:\n",
    "            ct-=1\n",
    "            while k < 2 * i -1:\n",
    "                print(f\"{ct}\", end=\"\")\n",
    "                ct-=1\n",
    "                k+=1\n",
    "            break\n",
    "                \n",
    "\n",
    "        else:\n",
    "            print(f\"{ct+1}\", end=\"\")\n",
    "            ct+=1\n",
    "            k += 1\n",
    "    j=i\n",
    "    while j<rows:\n",
    "        print(\" \",end=\"\")\n",
    "        j=j+1    \n",
    "    \n",
    "      \n",
    "    print()\n",
    "    i -= 1    "
   ]
  },
  {
   "cell_type": "code",
   "execution_count": 95,
   "id": "32e3de5d",
   "metadata": {},
   "outputs": [
    {
     "name": "stdout",
     "output_type": "stream",
     "text": [
      "    5\n",
      "   545\n",
      "  54345\n",
      " 5432345\n",
      "543212345\n",
      " 5432345 \n",
      "  54345  \n",
      "   545   \n",
      "    5    \n"
     ]
    }
   ],
   "source": [
    "rows=5\n",
    "i = 0\n",
    "while i < rows:\n",
    "    j = 0\n",
    "    while j < rows - i - 1:\n",
    "        print(\" \", end=\"\")\n",
    "        j += 1\n",
    "    k = 0\n",
    "    ct=rows\n",
    "    while k < 2 * i + 1:\n",
    "        if k==i:\n",
    "            while k < 2 * i + 1:\n",
    "                print(f\"{ct}\", end=\"\")\n",
    "                ct+=1\n",
    "                k+=1\n",
    "            break\n",
    "                \n",
    "\n",
    "        else:\n",
    "            print(f\"{ct}\", end=\"\")\n",
    "            ct-=1\n",
    "            k += 1\n",
    "    print()\n",
    "    i += 1\n",
    "i=rows-1\n",
    "while i>0:\n",
    "    j=i\n",
    "    while j<rows:\n",
    "        print(\" \",end=\"\")\n",
    "        j=j+1\n",
    "    k = 0\n",
    "    ct=rows\n",
    "   \n",
    "    while k < 2 * i - 1:\n",
    "       \n",
    "        if k==i:\n",
    "            ct+=1\n",
    "            while k < 2 * i -1:\n",
    "                print(f\"{ct+1}\", end=\"\")\n",
    "                ct+=1\n",
    "                k+=1\n",
    "            break\n",
    "                \n",
    "\n",
    "        else:\n",
    "            print(f\"{ct}\", end=\"\")\n",
    "            ct-=1\n",
    "            k += 1\n",
    "    j=i\n",
    "    while j<rows:\n",
    "        print(\" \",end=\"\")\n",
    "        j=j+1    \n",
    "    \n",
    "      \n",
    "    print()\n",
    "    i -= 1    "
   ]
  },
  {
   "cell_type": "code",
   "execution_count": 100,
   "id": "adfdeb5c",
   "metadata": {},
   "outputs": [
    {
     "name": "stdout",
     "output_type": "stream",
     "text": [
      "*******\n",
      "*******\n",
      "*******\n",
      "*******\n",
      "*******\n",
      "*******\n",
      "*******\n"
     ]
    }
   ],
   "source": [
    "n=7\n",
    "i=0\n",
    "while i<n:\n",
    "    j=0\n",
    "    while j<n:\n",
    "        print(\"*\",end=\"\")\n",
    "        j+=1\n",
    "    print()\n",
    "    i+=1    "
   ]
  },
  {
   "cell_type": "code",
   "execution_count": 116,
   "id": "034d0a7f",
   "metadata": {},
   "outputs": [
    {
     "name": "stdout",
     "output_type": "stream",
     "text": [
      "*******\n",
      "*     *\n",
      "*     *\n",
      "*     *\n",
      "*     *\n",
      "*     *\n",
      "*******\n"
     ]
    }
   ],
   "source": [
    "n=7\n",
    "i=0\n",
    "while i<n:\n",
    "    j=0\n",
    "    if (i==0)|(i==n-1):\n",
    "        while j<n:\n",
    "            print(\"*\",end=\"\")\n",
    "            j+=1\n",
    "    \n",
    "    else:\n",
    "        \n",
    "        while j<n:\n",
    "            if (j==0)|(j==n-1):\n",
    "                    print(\"*\",end=\"\")\n",
    "            else:\n",
    "                    print(\" \",end=\"\")                \n",
    "            \n",
    "                \n",
    "            j+=1    \n",
    "            \n",
    "    print()\n",
    "    i+=1 "
   ]
  },
  {
   "cell_type": "code",
   "execution_count": 118,
   "id": "605061ab",
   "metadata": {},
   "outputs": [
    {
     "name": "stdout",
     "output_type": "stream",
     "text": [
      "\\*****/\n",
      "*\\***/*\n",
      "**\\*/**\n",
      "***\\***\n",
      "**/*\\**\n",
      "*/***\\*\n",
      "/*****\\\n"
     ]
    }
   ],
   "source": [
    "i=0\n",
    "while i<7:\n",
    "    j=0\n",
    "    while j<7:\n",
    "        if(j==i):\n",
    "            print(\"\\\\\",end=\"\")\n",
    "        elif j==n-1-i:\n",
    "            print(\"/\",end=\"\")\n",
    "        else:\n",
    "             print(\"*\",end=\"\")\n",
    "        j+=1\n",
    "    print()    \n",
    "    i+=1    "
   ]
  },
  {
   "cell_type": "code",
   "execution_count": 1,
   "id": "29410315",
   "metadata": {
    "scrolled": true
   },
   "outputs": [
    {
     "name": "stdout",
     "output_type": "stream",
     "text": [
      "Enter number of rows:10\n",
      "------------------j------------------\n",
      "----------------j-i-j----------------\n",
      "--------------j-i-h-i-j--------------\n",
      "------------j-i-h-g-h-i-j------------\n",
      "----------j-i-h-g-f-g-h-i-j----------\n",
      "--------j-i-h-g-f-e-f-g-h-i-j--------\n",
      "------j-i-h-g-f-e-d-e-f-g-h-i-j------\n",
      "----j-i-h-g-f-e-d-c-d-e-f-g-h-i-j----\n",
      "--j-i-h-g-f-e-d-c-b-c-d-e-f-g-h-i-j--\n",
      "j-i-h-g-f-e-d-c-b-a-b-c-d-e-f-g-h-i-j\n",
      "--j-i-h-g-f-e-d-c-b-a-b-c-d-e-f-g-h--\n",
      "----j-i-h-g-f-e-d-c-b-c-d-e-f-g-h----\n",
      "------j-i-h-g-f-e-d-c-d-e-f-g-h------\n",
      "--------j-i-h-g-f-e-d-e-f-g-h--------\n",
      "----------j-i-h-g-f-e-f-g-h----------\n",
      "------------j-i-h-g-f-g-h------------\n",
      "--------------j-i-h-g-h--------------\n",
      "----------------j-i-h----------------\n",
      "------------------j------------------\n"
     ]
    }
   ],
   "source": [
    "rows=int(input(\"Enter number of rows:\"))\n",
    "i = 0\n",
    "while i < rows:\n",
    "    j = 0\n",
    "    while j < rows - i - 1:\n",
    "        print(\"--\", end=\"\")\n",
    "        j += 1\n",
    "    k = 0\n",
    "    ct=97+rows-1\n",
    "    while k < 2 * i + 1:\n",
    "        if k==i:\n",
    "            while k < 2 * i + 1:\n",
    "                if k==(2*i):\n",
    "                    print(chr(ct), end=\"\")\n",
    "                else:\n",
    "                    print(chr(ct), end=\"-\")\n",
    "                    \n",
    "                    \n",
    "                \n",
    "                ct+=1\n",
    "                k+=1\n",
    "            break\n",
    "        print(chr(ct), end=\"-\")\n",
    "        k += 1\n",
    "        ct-=1\n",
    "    j=1\n",
    "    while j<rows-i:\n",
    "        print(\"--\", end=\"\")\n",
    "        j += 1\n",
    "        \n",
    "        \n",
    "       \n",
    "    print()\n",
    "    i += 1\n",
    "i=rows-1\n",
    "while i>0:\n",
    "    j=i\n",
    "    while j<rows:\n",
    "        print(\"--\",end=\"\")\n",
    "        j=j+1\n",
    "    k = 0\n",
    "    ct=97+rows-1\n",
    "    while k < 2 * i - 1:\n",
    "        if k==i:\n",
    "                while k < 2 * i - 1:\n",
    "                        print(chr(ct), end=\"-\")\n",
    "                    \n",
    "                        ct+=1\n",
    "                        k+=1\n",
    "        else:\n",
    "                print(chr(ct), end=\"-\")\n",
    "                ct-=1\n",
    "                k += 1\n",
    "    j=0\n",
    "    while j<(2*(rows-i-1)+1):\n",
    "        print(\"-\",end=\"\")\n",
    "        j+=1\n",
    "    \n",
    "      \n",
    "    print()\n",
    "    i -= 1\n",
    "\n",
    "\n",
    "\n",
    "\n",
    "\n",
    "   \n",
    "        "
   ]
  },
  {
   "cell_type": "code",
   "execution_count": 8,
   "id": "2e835503",
   "metadata": {},
   "outputs": [
    {
     "name": "stdout",
     "output_type": "stream",
     "text": [
      "---------------.|.---------------\n",
      "------------.|..|..|.------------\n",
      "---------.|..|..|..|..|.---------\n",
      "------.|..|..|..|..|..|..|.------\n",
      "---.|..|..|..|..|..|..|..|..|.---\n",
      "-------------WELCOME-------------\n",
      "---.|..|..|..|..|..|..|..|..|.---\n",
      "------.|..|..|..|..|..|..|.------\n",
      "---------.|..|..|..|..|.---------\n",
      "------------.|..|..|.------------\n",
      "---------------.|.---------------\n"
     ]
    }
   ],
   "source": [
    "n=11\n",
    "rows=n//2\n",
    "i = 0\n",
    "while i < rows:\n",
    "    j = 3*rows\n",
    "    while j > 3*i:\n",
    "        print(\"-\", end=\"\")\n",
    "        j -= 1\n",
    "    k = 0\n",
    "    while k < 2 * i + 1:\n",
    "        print(\".|.\", end=\"\")\n",
    "        k += 1\n",
    "    j = 3*rows\n",
    "    while j > 3*i:\n",
    "        print(\"-\", end=\"\")\n",
    "        j -= 1    \n",
    "        \n",
    "    print()\n",
    "    i += 1\n",
    "print(\"-\"*(n+2),end=\"\")\n",
    "print(\"WELCOME\",end=\"\")\n",
    "print(\"-\"*(n+2))\n",
    "i=rows\n",
    "while i>0:\n",
    "    j=3*(i-1)\n",
    "    while j<3*rows:\n",
    "        print(\"-\",end=\"\")\n",
    "        j=j+1\n",
    "    k = 0\n",
    "    while k < 2 * i - 1:\n",
    "        print(\".|.\", end=\"\")\n",
    "        k += 1 \n",
    "    j=3*(i-1)\n",
    "    while j<3*rows:\n",
    "        print(\"-\",end=\"\")\n",
    "        j=j+1    \n",
    "    print()\n",
    "    i-=1\n",
    "        \n",
    "\n",
    "\n",
    "    "
   ]
  }
 ],
 "metadata": {
  "kernelspec": {
   "display_name": "Python 3 (ipykernel)",
   "language": "python",
   "name": "python3"
  },
  "language_info": {
   "codemirror_mode": {
    "name": "ipython",
    "version": 3
   },
   "file_extension": ".py",
   "mimetype": "text/x-python",
   "name": "python",
   "nbconvert_exporter": "python",
   "pygments_lexer": "ipython3",
   "version": "3.10.9"
  }
 },
 "nbformat": 4,
 "nbformat_minor": 5
}
