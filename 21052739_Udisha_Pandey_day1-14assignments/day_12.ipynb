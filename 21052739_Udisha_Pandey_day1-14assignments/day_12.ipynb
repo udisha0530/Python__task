{
 "cells": [
  {
   "cell_type": "code",
   "execution_count": null,
   "id": "318c4558",
   "metadata": {},
   "outputs": [],
   "source": [
    "import random\n",
    "\n",
    "random_number = random.randint(1, 50)\n",
    "ch=0\n",
    "correct=random_number\n",
    "guess=0\n",
    "while ch<5:\n",
    "    num=int(input(f\"select the number[1-50] ,{5-ch} chances left! \"))\n",
    "    \n",
    "    if(num>50)|(num<1):\n",
    "        print(\"Select the number in given range: \")\n",
    "        continue\n",
    "    ch=ch+1\n",
    "    if (num>correct) & (ch!=5):\n",
    "        print(\"Think of a low number\")\n",
    "    elif (num<correct) & (ch!=5):\n",
    "        print(\"Think of higher number\")\n",
    "    elif num==correct:\n",
    "        print(\"You guessed the number\")\n",
    "        print(f\"The number is :{correct}\")\n",
    "        guess=1\n",
    "        break\n",
    "        \n",
    "if guess==0:\n",
    "    print(\"Out of chances!!!\")\n",
    "    print(f\"The number is:{correct}\")\n",
    "        \n",
    "    "
   ]
  },
  {
   "cell_type": "markdown",
   "id": "53b7b524",
   "metadata": {},
   "source": [
    "### HackerRank Solution"
   ]
  },
  {
   "cell_type": "code",
   "execution_count": 2,
   "id": "de0221b5",
   "metadata": {},
   "outputs": [
    {
     "name": "stdout",
     "output_type": "stream",
     "text": [
      "1\n",
      "1\n",
      "2\n",
      "2\n",
      "[0, 1]\n",
      "[0, 1]\n",
      "[0, 1, 2]\n",
      "[[0, 0, 0], [0, 0, 1], [0, 1, 0], [0, 1, 2], [1, 0, 0], [1, 0, 2], [1, 1, 1], [1, 1, 2]]\n"
     ]
    }
   ],
   "source": [
    "x = int(input())\n",
    "y = int(input())\n",
    "z = int(input())\n",
    "n = int(input())\n",
    "    \n",
    "    \n",
    "\n",
    "list1=[i for i in range(x+1)]\n",
    "list2=[j for j in range(y+1)]\n",
    "list3=[k for k in range(z+1)]\n",
    "print(list1)\n",
    "print(list2)\n",
    "print(list3)\n",
    "\n",
    "list4=[[i,j,k] for i in list1 for j in list2 for k in list3 if(i+j+k)!=n]\n",
    "print(list4)\n"
   ]
  },
  {
   "cell_type": "code",
   "execution_count": 4,
   "id": "30682964",
   "metadata": {},
   "outputs": [
    {
     "name": "stdout",
     "output_type": "stream",
     "text": [
      "5\n",
      "insert 0 1\n",
      "[1]\n",
      "insert 1 3\n",
      "[1, 3]\n",
      "append 4\n",
      "[1, 3, 4]\n",
      "reverse\n",
      "[4, 3, 1]\n",
      "sort\n",
      "[1, 3, 4]\n"
     ]
    }
   ],
   "source": [
    "N = int(input())\n",
    "i=0\n",
    "l=[]\n",
    "while i<N:\n",
    "        comm,*args=input().split()\n",
    "        args = [int(x) for x in args]\n",
    "        if comm=='insert':\n",
    "            l.insert(args[0],args[1])\n",
    "        elif comm=='print':\n",
    "            print(l)\n",
    "        elif comm=='remove':\n",
    "            l.remove(args[0])\n",
    "        elif comm=='append':\n",
    "            l.append(args[0])\n",
    "        elif comm=='sort':\n",
    "            l.sort()\n",
    "        elif comm=='pop':\n",
    "            l.pop()\n",
    "        elif comm=='reverse':\n",
    "            l.reverse()\n",
    "        print(l)    \n",
    "        i+=1\n",
    "        \n"
   ]
  },
  {
   "cell_type": "code",
   "execution_count": 6,
   "id": "4a28e971",
   "metadata": {},
   "outputs": [
    {
     "name": "stdout",
     "output_type": "stream",
     "text": [
      "3\n",
      "student1 67 78 90\n",
      "student2 89 78 89\n",
      "student3 99 78 67\n",
      "student2\n",
      "85.33\n"
     ]
    }
   ],
   "source": [
    "n = int(input())\n",
    "student_marks = {}\n",
    "for _ in range(n):\n",
    "        name, *line = input().split()\n",
    "        scores = list(map(float, line))\n",
    "        student_marks[name] = scores\n",
    "query_name = input()\n",
    "tot=0.00\n",
    "if query_name in student_marks:\n",
    "    for i in student_marks[query_name]:\n",
    "        tot+=i\n",
    "n1=len(student_marks[query_name])      \n",
    "avg=tot/n1\n",
    "print(\"%.2f\" %avg)       \n",
    "          \n",
    "        "
   ]
  },
  {
   "cell_type": "code",
   "execution_count": 12,
   "id": "f9c661a9",
   "metadata": {},
   "outputs": [
    {
     "name": "stdout",
     "output_type": "stream",
     "text": [
      "[1, 2, 3, 5, 9]\n"
     ]
    }
   ],
   "source": [
    "def bubble_sort(arr):\n",
    "    n = len(arr)\n",
    "    \n",
    "    for i in range(n - 1):\n",
    "        for j in range(n - 1 - i):\n",
    "            if arr[j] > arr[j + 1]:\n",
    "                arr[j], arr[j + 1] = arr[j + 1], arr[j]\n",
    "    \n",
    "    return arr\n",
    "\n",
    "\n",
    "my_list = [5, 2, 9, 1, 3]\n",
    "sorted_list = bubble_sort(my_list)\n",
    "print(sorted_list)\n"
   ]
  },
  {
   "cell_type": "code",
   "execution_count": 13,
   "id": "170817a3",
   "metadata": {},
   "outputs": [
    {
     "name": "stdout",
     "output_type": "stream",
     "text": [
      "[1, 2, 3, 5, 9]\n"
     ]
    }
   ],
   "source": [
    "def insertion_sort(arr):\n",
    "    n = len(arr)\n",
    "    \n",
    "    for i in range(1, n):\n",
    "        key = arr[i]\n",
    "        j = i - 1\n",
    "        \n",
    "        while j >= 0 and arr[j] > key:\n",
    "            arr[j + 1] = arr[j]\n",
    "            j -= 1\n",
    "        \n",
    "        arr[j + 1] = key\n",
    "    \n",
    "    return arr\n",
    "\n",
    "\n",
    "my_list = [5, 2, 9, 1, 3]\n",
    "sorted_list = insertion_sort(my_list)\n",
    "print(sorted_list)\n"
   ]
  },
  {
   "cell_type": "code",
   "execution_count": 14,
   "id": "f794c032",
   "metadata": {},
   "outputs": [
    {
     "name": "stdout",
     "output_type": "stream",
     "text": [
      "[1, 2, 3, 5, 9]\n"
     ]
    }
   ],
   "source": [
    "def selection_sort(arr):\n",
    "    n = len(arr)\n",
    "    \n",
    "    for i in range(n - 1):\n",
    "        min_index = i\n",
    "        \n",
    "        for j in range(i + 1, n):\n",
    "            if arr[j] < arr[min_index]:\n",
    "                min_index = j\n",
    "        \n",
    "        arr[i], arr[min_index] = arr[min_index], arr[i]\n",
    "    \n",
    "    return arr\n",
    "\n",
    "my_list = [5, 2, 9, 1, 3]\n",
    "sorted_list = selection_sort(my_list)\n",
    "print(sorted_list)\n"
   ]
  },
  {
   "cell_type": "code",
   "execution_count": null,
   "id": "9cdbf077",
   "metadata": {},
   "outputs": [],
   "source": []
  }
 ],
 "metadata": {
  "kernelspec": {
   "display_name": "Python 3 (ipykernel)",
   "language": "python",
   "name": "python3"
  },
  "language_info": {
   "codemirror_mode": {
    "name": "ipython",
    "version": 3
   },
   "file_extension": ".py",
   "mimetype": "text/x-python",
   "name": "python",
   "nbconvert_exporter": "python",
   "pygments_lexer": "ipython3",
   "version": "3.10.9"
  }
 },
 "nbformat": 4,
 "nbformat_minor": 5
}
