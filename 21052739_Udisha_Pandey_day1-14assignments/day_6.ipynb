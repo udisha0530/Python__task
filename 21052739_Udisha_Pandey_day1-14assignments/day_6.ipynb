{
 "cells": [
  {
   "cell_type": "markdown",
   "id": "94b10f8b",
   "metadata": {},
   "source": [
    "### Ques1 \n",
    "#### Project Ideas using Python:\n",
    "1. `Budgeting App:`  An application that will  help users in managing their finances by tracking income, expenses, and                          savings goals.\n",
    "2. `Risk Assessment and Credit Scoring`:A machine learning model that allows to predict the amount of risk associated in providing loans and credit.\n",
    "3. `Menu Recommender System`: Develop a Python-based recommender system that suggests menu items to guests based on their preferences, dietary restrictions, or past orders. The program can use collaborative filtering or content-based filtering techniques to generate personalized menu recommendations.\n",
    "4. `Medicine Time Reminder from doctor's prescription`:  An AI-powered medicine time reminder system using a doctor's prescription to schedule medication reminders and notify patients at the specified times, enhancing medication adherence and patient safety.\n",
    "5. `Liquid News`: A Liquid News system that leverages natural language processing and machine learning techniques to analyze and summarize news articles, providing users with concise and relevant summaries for quick consumption and staying up-to-date with current events.\n",
    "6. `Student Performance Prediction`: An AI model that predicts student performance based on historical data, allowing early identification of students who may need additional support or intervention.\n",
    "7. `Passenger Flow Analysis`: An AI system that analyzes passenger movement patterns and predicts congestion areas within the airport, allowing for better resource allocation and enhancing passenger experience.\n",
    "8. `Movie Recommendation system`:A system built using Python leverages collaborative filtering and content-based filtering techniques to suggest movies to users based on their preferences and similarities between movies. \n",
    "9. `Customer Feedback Analysis`:  A Python program that analyzes customer feedback and reviews from various sources, such as social media or online platforms. The program can use natural language processing techniques to extract sentiments, identify common issues, and provide insights to improve customer satisfaction.\n",
    "10. `Crime Data Visualization`: Develop interactive visualizations using Python libraries such as Matplotlib, Seaborn, or Plotly to present crime data in a meaningful and informative way. This can include heatmaps, charts, graphs, or geospatial visualizations to highlight crime patterns and trends."
   ]
  },
  {
   "cell_type": "code",
   "execution_count": 1,
   "id": "1a62b768",
   "metadata": {},
   "outputs": [],
   "source": [
    "### Ques2\n",
    "\n",
    "employee = {\n",
    "    \"id\": 12345,\n",
    "    \"name\": \"Aditya\",\n",
    "    \"position\": \"Software Engineer\",\n",
    "    \"department\": \"Engineering\",\n",
    "    \"salary\": 75000\n",
    "}\n",
    "\n",
    "student = {\n",
    "    \"id\": \"001\",\n",
    "    \"name\": \"Mohit Kumar\",\n",
    "    \"age\": 20,\n",
    "    \"major\": \"Computer Science\",\n",
    "    \"courses\": [\"Introduction to Programming\", \"Data Structures\", \"Algorithms\"],\n",
    "    \"marks\": {\n",
    "        \"Introduction to Programming\": 87,\n",
    "        \"Data Structures\": 92,\n",
    "        \"Algorithms\": 85\n",
    "    }\n",
    "}\n",
    "\n",
    "car = {\n",
    "    \"make\": \"Toyota\",\n",
    "    \"model\": \"Camry\",\n",
    "    \"year\": 2022,\n",
    "    \"color\": \"Silver\",\n",
    "    \"mileage\": 25000,\n",
    "    \"features\": [\"Bluetooth connectivity\", \"Backup camera\", \"Lane departure warning\"],\n",
    "    \"price\": 25000.00\n",
    "}\n",
    "order = {\n",
    "    \"id\": \"001\",\n",
    "    \"customer\": \"Ranjan\",\n",
    "    \"items\": [\n",
    "        {\n",
    "            \"product_id\": \"P001\",\n",
    "            \"quantity\": 2,\n",
    "            \"price\": 1200.00\n",
    "        },\n",
    "        {\n",
    "            \"product_id\": \"P002\",\n",
    "            \"quantity\": 1,\n",
    "            \"price\": 2000.00\n",
    "        }\n",
    "    ],\n",
    "    \"total\": 3200.00\n",
    "    \n",
    "}\n",
    "\n",
    "book = {\n",
    "    \"title\": \"The Silent Patient\",\n",
    "    \"author\": \"Alex Michaelides\",\n",
    "    \"genre\": \"Mystery\",\n",
    "    \"year\": 2019,\n",
    "    \"available\": True\n",
    "}\n",
    "\n",
    "\n",
    "\n"
   ]
  },
  {
   "cell_type": "markdown",
   "id": "890dfa65",
   "metadata": {},
   "source": [
    "### QUES3\n",
    "\n",
    "#### `Duck typing`\n",
    "   ***In Python, we don't need to specify the variable's data type and we can reassign the different data type values to same variable in further code***\n",
    "   ***Duck Typing refers to the principle of not constraining or binding the code to specific data types.***\n",
    "  "
   ]
  },
  {
   "cell_type": "code",
   "execution_count": 3,
   "id": "b30d4584",
   "metadata": {},
   "outputs": [
    {
     "name": "stdout",
     "output_type": "stream",
     "text": [
      "<class 'int'>\n",
      "<class 'str'>\n",
      "<class 'float'>\n",
      "<class 'bool'>\n"
     ]
    }
   ],
   "source": [
    "a=10;\n",
    "print(type(a))\n",
    "a=\"hello\"\n",
    "print(type(a))\n",
    "a=9.7\n",
    "print(type(a))\n",
    "a=True;\n",
    "print(type(a))\n"
   ]
  },
  {
   "cell_type": "markdown",
   "id": "8867b493",
   "metadata": {},
   "source": [
    "#### `DUNDER/SPECIAL METHODS`\n",
    "  * In Python, dunder methods are methods that allow instances of a class  to interact with the built-in functions and operators of the language.\n",
    "  * The word “dunder” comes from “double underscore”, because the names of dunder methods start and end with two underscores, for example __str__ or __add__.\n",
    "  * dunder methods are not invoked directly by the programmer, making it look like they are called by magic. That is why dunder methods are also referred to as “magic methods” sometimes."
   ]
  },
  {
   "cell_type": "code",
   "execution_count": 5,
   "id": "d53f8480",
   "metadata": {},
   "outputs": [
    {
     "name": "stdout",
     "output_type": "stream",
     "text": [
      "[1, 2, 3, 4, 5, 6, 7, 8]\n"
     ]
    }
   ],
   "source": [
    "list1=[1,2,3,4]\n",
    "list2=[5,6,7,8]\n",
    "print(list1+list2)###__add__ function invoked\n",
    "    \n"
   ]
  },
  {
   "cell_type": "code",
   "execution_count": null,
   "id": "6d0fa101",
   "metadata": {},
   "outputs": [],
   "source": []
  }
 ],
 "metadata": {
  "kernelspec": {
   "display_name": "Python 3 (ipykernel)",
   "language": "python",
   "name": "python3"
  },
  "language_info": {
   "codemirror_mode": {
    "name": "ipython",
    "version": 3
   },
   "file_extension": ".py",
   "mimetype": "text/x-python",
   "name": "python",
   "nbconvert_exporter": "python",
   "pygments_lexer": "ipython3",
   "version": "3.10.9"
  }
 },
 "nbformat": 4,
 "nbformat_minor": 5
}
