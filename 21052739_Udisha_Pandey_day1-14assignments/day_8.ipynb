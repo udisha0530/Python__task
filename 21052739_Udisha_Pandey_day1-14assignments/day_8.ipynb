{
 "cells": [
  {
   "cell_type": "markdown",
   "id": "97533635",
   "metadata": {},
   "source": [
    "### QUES1\n",
    "\n",
    "### 1. What are the two values of the Boolean data type? How do you write them? \n",
    "\n",
    "`The two values of the Boolean data type in Python are True and False. These values represent the concepts of true and false, or on and off, respectively.`"
   ]
  },
  {
   "cell_type": "code",
   "execution_count": 1,
   "id": "7d4d4733",
   "metadata": {},
   "outputs": [
    {
     "name": "stdout",
     "output_type": "stream",
     "text": [
      "The value is true\n"
     ]
    }
   ],
   "source": [
    "a=True\n",
    "if a:\n",
    "    print(\"The value is true\")\n",
    "else:\n",
    "    print(\"The value is False\")"
   ]
  },
  {
   "cell_type": "markdown",
   "id": "b92c0074",
   "metadata": {},
   "source": [
    "#### 2. What are the three boolean operators?\n",
    "In Python, there are three Boolean operators used to perform logical operations on Boolean values. These operators are `and`, `or`, and `not`. Here's a brief explanation of each operator:\n",
    "\n",
    "1. `and` Operator: The `and` operator returns `True` if both operands are `True`, otherwise it returns `False`. It evaluates to `True` only when all conditions are true.\n",
    "\n",
    "2. `or` Operator: The `or` operator returns `True` if at least one of the operands is `True`, otherwise it returns `False`. It evaluates to `True` if any of the conditions are true.\n",
    "\n",
    "3. `not` Operator: The `not` operator is a unary operator that returns the opposite Boolean value of its operand. It negates the truth value. If the operand is `True`, it returns `False`, and if the operand is `False`, it returns `True`.\n",
    "\n"
   ]
  },
  {
   "cell_type": "markdown",
   "id": "ec8cab69",
   "metadata": {},
   "source": [
    "### QUES3\n",
    "\n",
    "#### 3. Write out the truth tables of each Boolean operator (that is, every possible combination of Boolean values for the operator and what they evaluate to). \n",
    "\n",
    "\n",
    "| Operand 1 | Operand 2 |   and   |   or    |   not   |\n",
    "|-----------|-----------|---------|---------|---------|\n",
    "|   False   |   False   |  False  |  False  |  True   |\n",
    "|   False   |   True    |  False  |  True   |  True   |\n",
    "|   True    |   False   |  False  |  True   |  False  |\n",
    "|   True    |   True    |  True   |  True   |  False  |\n"
   ]
  },
  {
   "cell_type": "markdown",
   "id": "9430c6f2",
   "metadata": {},
   "source": [
    "### QUES4\n",
    "\n",
    "#### What do the following expressions evaluate to? \n",
    "\n",
    "1. (5 > 4) and (3 == 5) \n",
    "\n",
    "2. not (5 > 4) \n",
    "\n",
    "3. (5 > 4) or (3 == 5) \n",
    "\n",
    "4. not ((5 > 4) or (3 == 5)) \n",
    "\n",
    "5. (True and True) and (True == False) \n",
    "\n",
    "6. (not False) or (not True) \n",
    "\n",
    "`SOL:`\n",
    "`1. False`\n",
    "`2. False`\n",
    "`3. True`\n",
    "`4. False`\n",
    "`5. False`\n",
    "`6. True`"
   ]
  },
  {
   "cell_type": "markdown",
   "id": "5dc792d1",
   "metadata": {},
   "source": [
    "### QUES5\n",
    "\n",
    "#### What are the six comparison operators?\n",
    "\n",
    "In Python, there are six comparison operators used to compare values and determine the relationship between them. Here are the six comparison operators:\n",
    "\n",
    "1. Equal to (`==`): The equal to operator compares if two values are equal and returns `True` if they are equal, and `False` otherwise.\n",
    "\n",
    "2. Not equal to (`!=`): The not equal to operator compares if two values are not equal and returns `True` if they are not equal, and `False` if they are equal.\n",
    "\n",
    "3. Greater than (`>`): The greater than operator compares if the left operand is greater than the right operand and returns `True` if it is, and `False` otherwise.\n",
    "\n",
    "4. Less than (`<`): The less than operator compares if the left operand is less than the right operand and returns `True` if it is, and `False` otherwise.\n",
    "\n",
    "5. Greater than or equal to (`>=`): The greater than or equal to operator compares if the left operand is greater than or equal to the right operand and returns `True` if it is, and `False` otherwise.\n",
    "\n",
    "6. Less than or equal to (`<=`): The less than or equal to operator compares if the left operand is less than or equal to the right operand and returns `True` if it is, and `False` otherwise.\n",
    "\n"
   ]
  },
  {
   "cell_type": "code",
   "execution_count": 2,
   "id": "558d3264",
   "metadata": {},
   "outputs": [
    {
     "name": "stdout",
     "output_type": "stream",
     "text": [
      "False\n",
      "True\n",
      "False\n",
      "True\n",
      "False\n",
      "True\n"
     ]
    }
   ],
   "source": [
    "x = 5\n",
    "y = 10\n",
    "\n",
    "print(x == y)   # False\n",
    "print(x != y)   # True\n",
    "print(x > y)    # False\n",
    "print(x < y)    # True\n",
    "print(x >= y)   # False\n",
    "print(x <= y)   # True\n"
   ]
  },
  {
   "cell_type": "markdown",
   "id": "b2c3d87c",
   "metadata": {},
   "source": [
    "### QUES6\n",
    "\n",
    " #### What is the difference between the equal to operator and the assignment operator? \n",
    " 1. Equal to Operator (`==`): The equal to operator is a comparison operator used to compare two values for equality. It returns True if the two values are equal, and False if they are not equal. It is used to check the equality of values in conditions or expressions."
   ]
  },
  {
   "cell_type": "code",
   "execution_count": 3,
   "id": "8a667383",
   "metadata": {},
   "outputs": [
    {
     "name": "stdout",
     "output_type": "stream",
     "text": [
      "False\n"
     ]
    }
   ],
   "source": [
    "x = 5\n",
    "y = 10\n",
    "print(x == y)  # False\n"
   ]
  },
  {
   "cell_type": "markdown",
   "id": "cd485f63",
   "metadata": {},
   "source": [
    "2. Assignment Operator (`=`): The assignment operator is used to assign a value to a variable. It assigns the value on the right-hand side to the variable on the left-hand side. It does not perform a comparison but instead assigns a value."
   ]
  },
  {
   "cell_type": "code",
   "execution_count": 4,
   "id": "2762a3ca",
   "metadata": {},
   "outputs": [],
   "source": [
    "x = 5   \n",
    "y = x  \n"
   ]
  },
  {
   "cell_type": "markdown",
   "id": "0b615b09",
   "metadata": {},
   "source": [
    "### QUES7\n",
    "\n",
    "#### Explain what a condition is and where you would use one.\n",
    "\n",
    "`In programming, a condition refers to an expression or a statement that evaluates to either true or false. Conditions are used to control the flow of a program and make decisions based on different scenarios.`\n",
    "\n",
    "`Conditions are typically used in control structures, such as if statements and loops, to determine which block of code should be executed.`\n",
    "\n"
   ]
  },
  {
   "cell_type": "code",
   "execution_count": 9,
   "id": "9a28b8a1",
   "metadata": {},
   "outputs": [
    {
     "name": "stdout",
     "output_type": "stream",
     "text": [
      "True\n",
      "3\n",
      "2\n",
      "1\n"
     ]
    }
   ],
   "source": [
    "# if statements\n",
    "a=1\n",
    "if(a):\n",
    "  print(True)\n",
    "## Loops\n",
    "a=3\n",
    "while a>0:\n",
    "    print(a)\n",
    "    a=a-1;\n",
    "        "
   ]
  },
  {
   "cell_type": "code",
   "execution_count": null,
   "id": "5cfac6a5",
   "metadata": {},
   "outputs": [],
   "source": []
  }
 ],
 "metadata": {
  "kernelspec": {
   "display_name": "Python 3 (ipykernel)",
   "language": "python",
   "name": "python3"
  },
  "language_info": {
   "codemirror_mode": {
    "name": "ipython",
    "version": 3
   },
   "file_extension": ".py",
   "mimetype": "text/x-python",
   "name": "python",
   "nbconvert_exporter": "python",
   "pygments_lexer": "ipython3",
   "version": "3.10.9"
  }
 },
 "nbformat": 4,
 "nbformat_minor": 5
}
