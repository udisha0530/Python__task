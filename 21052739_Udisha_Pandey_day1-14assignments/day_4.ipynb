{
 "cells": [
  {
   "cell_type": "markdown",
   "id": "2cc858f9",
   "metadata": {},
   "source": [
    "### Ques 1 Explore split, strip, replace, center, title methods of string data type in python "
   ]
  },
  {
   "cell_type": "code",
   "execution_count": 2,
   "id": "93b74e60",
   "metadata": {
    "scrolled": true
   },
   "outputs": [
    {
     "name": "stdout",
     "output_type": "stream",
     "text": [
      "['My', 'name', 'is', 'Udisha', 'Pandey']\n",
      "<class 'list'>\n"
     ]
    }
   ],
   "source": [
    "str=\"   My name is Udisha Pandey   \"\n",
    "word=str.split()\n",
    "print(word)\n",
    "print(type(word))"
   ]
  },
  {
   "cell_type": "markdown",
   "id": "6bb64e80",
   "metadata": {},
   "source": [
    "`breaks the string into lists of words`"
   ]
  },
  {
   "cell_type": "code",
   "execution_count": 3,
   "id": "76cd410e",
   "metadata": {},
   "outputs": [
    {
     "name": "stdout",
     "output_type": "stream",
     "text": [
      "My name is Udisha Pandey\n"
     ]
    }
   ],
   "source": [
    "str=str.strip()\n",
    "print(str)"
   ]
  },
  {
   "cell_type": "markdown",
   "id": "5036256e",
   "metadata": {},
   "source": [
    "`Removes white spaces from the beginning and end of string`"
   ]
  },
  {
   "cell_type": "code",
   "execution_count": null,
   "id": "a9cc6d1c",
   "metadata": {},
   "outputs": [],
   "source": [
    "txt=\"I am learning Python\"\n",
    "print(txt)\n",
    "txt=txt.replace(\"Python\",\"Java\")\n",
    "print(txt)"
   ]
  },
  {
   "cell_type": "markdown",
   "id": "c078f948",
   "metadata": {},
   "source": [
    "`replaces the specified phrase with another specified phrase`"
   ]
  },
  {
   "cell_type": "code",
   "execution_count": 6,
   "id": "07ef72e4",
   "metadata": {},
   "outputs": [
    {
     "name": "stdout",
     "output_type": "stream",
     "text": [
      "I am learning Java\n",
      " I am learning Java \n"
     ]
    }
   ],
   "source": [
    "new_txt=txt.center(20)\n",
    "print(txt)\n",
    "print(new_txt)"
   ]
  },
  {
   "cell_type": "markdown",
   "id": "99e5edda",
   "metadata": {},
   "source": [
    "`creates and returns a new string that is padded with the specified character.`"
   ]
  },
  {
   "cell_type": "code",
   "execution_count": 7,
   "id": "72f27bab",
   "metadata": {},
   "outputs": [
    {
     "name": "stdout",
     "output_type": "stream",
     "text": [
      "Udisha Pandey\n"
     ]
    }
   ],
   "source": [
    "name='udisha pandey'\n",
    "name=name.title()\n",
    "print(name)"
   ]
  },
  {
   "cell_type": "markdown",
   "id": "042f818b",
   "metadata": {},
   "source": [
    "` convert the first character in each word to uppercase and the remaining characters to lowercase in the string`"
   ]
  },
  {
   "cell_type": "markdown",
   "id": "361ab901",
   "metadata": {},
   "source": [
    "#### QUES2"
   ]
  },
  {
   "cell_type": "code",
   "execution_count": 15,
   "id": "7739df02",
   "metadata": {},
   "outputs": [
    {
     "name": "stdout",
     "output_type": "stream",
     "text": [
      "[10, 20, 30, 40, 50, 60]\n",
      "[10, 20, 40, 50, 60]\n",
      "[2, 3, 1, 4, 5, 1]\n",
      "[1, 1, 2, 3, 4, 5]\n"
     ]
    }
   ],
   "source": [
    "list=[10,20,30,40,50]\n",
    "list.append(60)\n",
    "print(list)\n",
    "list.pop(2)\n",
    "print(list)\n",
    "list1=[1,2,3,1,4,5,1]\n",
    "list1.remove(1)\n",
    "print(list1)\n",
    "list1.sort()\n",
    "print(list1)"
   ]
  },
  {
   "cell_type": "markdown",
   "id": "7a0ad21f",
   "metadata": {},
   "source": [
    "`append()->adds item to end of list`\n",
    "\n",
    "`pop()->remove item from the specified index of list,if not given then end item is removed\n",
    "`\n",
    "\n",
    "`remove()->remove the first occurence of the given element`\n",
    "\n",
    "`sort()->sort the items of the list in ascending order`"
   ]
  },
  {
   "cell_type": "markdown",
   "id": "29042f81",
   "metadata": {},
   "source": [
    "### QUES3"
   ]
  },
  {
   "cell_type": "code",
   "execution_count": 16,
   "id": "9ddb9cb6",
   "metadata": {},
   "outputs": [],
   "source": [
    "\n",
    "subject=['Maths','Chemistry','English','Physics']\n",
    "Place=['Prayagraj','Delhi','Dehradun','Mumbai']\n",
    "Marks=[97,56,78.5,100]\n",
    "work=['developer','analyst','manager','accountant']"
   ]
  },
  {
   "cell_type": "markdown",
   "id": "f7c730cc",
   "metadata": {},
   "source": [
    "### QUES4\n",
    "\n",
    "### IMMUTABLE\n",
    "1.Immutable objects cannot be changed once created.\n",
    "\n",
    "2.Eg:int,float,bool,string,unicode,tuple\n",
    "\n",
    "### MUTABLE\n",
    "\n",
    "1.Mutable objects can be changed once created.\n",
    "\n",
    "2.Eg:List,Dictionary,Set\n",
    "\n",
    "\n",
    "### QUES5\n",
    "\n",
    "All the variables, class, object, functions, lists, dictionaries etc. in Python are together termed as Python Identifiers. Identifiers are the basis of any Python program. Almost every Python Code uses some or other identifiers.\n",
    "\n",
    "### RULES:\n",
    "*An identifier name should not be a keyword.\n",
    "\n",
    "*An identifier name can begin with a letter or an underscore only.\n",
    "\n",
    "*An identifier name can contain both numbers and letters along with underscores (A-z, 0-9, and _ ).\n",
    "\n",
    "*An identifier name in Python is case-sensitive i.e, sum and Sum are two different identifier."
   ]
  },
  {
   "cell_type": "code",
   "execution_count": null,
   "id": "ef256e04",
   "metadata": {},
   "outputs": [],
   "source": []
  }
 ],
 "metadata": {
  "kernelspec": {
   "display_name": "Python 3 (ipykernel)",
   "language": "python",
   "name": "python3"
  },
  "language_info": {
   "codemirror_mode": {
    "name": "ipython",
    "version": 3
   },
   "file_extension": ".py",
   "mimetype": "text/x-python",
   "name": "python",
   "nbconvert_exporter": "python",
   "pygments_lexer": "ipython3",
   "version": "3.10.9"
  }
 },
 "nbformat": 4,
 "nbformat_minor": 5
}
